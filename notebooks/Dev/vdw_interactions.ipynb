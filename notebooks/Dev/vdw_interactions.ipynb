{
 "cells": [
  {
   "cell_type": "code",
   "execution_count": 10,
   "metadata": {},
   "outputs": [],
   "source": [
    "from rdkit.Chem.rdmolfiles import MolFromPDBFile\n",
    "from rdkit.Chem.rdchem import Mol\n",
    "import numpy as np\n",
    "import rdkit.Chem as Chem\n",
    "from rdkit.Chem import AddHs, AssignStereochemistry, HybridizationType, ChiralType, BondStereo, MolFromMol2File\n",
    "from rdkit.Chem.AllChem import ComputeGasteigerCharges\n",
    "import os\n",
    "import sys\n",
    "sys.path.append(\"../../\")\n",
    "from src.data.pocket_utils import get_atom_coordinates, find_pocket_atoms_RDKit\n",
    "from src.data.utils import get_vdw_radius, mol2_to_rdkit_mol"
   ]
  },
  {
   "cell_type": "code",
   "execution_count": 11,
   "metadata": {},
   "outputs": [],
   "source": [
    "def vdw_interactions(mol, atom_1, atom_2):\n",
    "    \"\"\"\n",
    "    Determine if there is a van der Waals interaction between atom 1 and atom 2 based on whether the interatomic distance is less \n",
    "    than or equal to the sum of the van der Waals radii of the two atoms.\n",
    "    \n",
    "    Parameters:\n",
    "    mol (Chem.Mol): The RDKit molecule.\n",
    "    atom_1 (int): The index of the first atom.\n",
    "    atom_2 (int): The index of the second atom.\n",
    "    \n",
    "    Returns:\n",
    "    tuple: (0, 0, 0, 0, 0) if there is a van der Waals interaction, None otherwise \n",
    "    \"\"\"\n",
    "\n",
    "    # Get the coordinates of the atoms\n",
    "    pos1 = np.array(mol.GetConformer().GetAtomPosition(atom_1))\n",
    "    pos2 = np.array(mol.GetConformer().GetAtomPosition(atom_2))\n",
    "\n",
    "    # Compute the distance between the two atoms\n",
    "    distance = np.linalg.norm(pos1 - pos2)\n",
    "\n",
    "    # Get the van der Waals radii of the two atoms\n",
    "    atom_1_symbol = mol.GetAtomWithIdx(atom_1).GetSymbol()\n",
    "    atom_2_symbol = mol.GetAtomWithIdx(atom_2).GetSymbol()\n",
    "    vdw_radius_1 = get_vdw_radius(atom_1_symbol)\n",
    "    vdw_radius_2 = get_vdw_radius(atom_2_symbol)\n",
    "\n",
    "    print(f\"Distance: {distance}\")\n",
    "    print(f\"Sum of van der Waals radii: {vdw_radius_1 + vdw_radius_2}\")\n",
    "    \n",
    "\n",
    "    # Check if the distance is less than or equal to the sum of the van der Waals radii\n",
    "    if distance <= (vdw_radius_1 + vdw_radius_2):\n",
    "        return (0, 0, 0, 0, 0)\n",
    "\n",
    "    return None\n"
   ]
  },
  {
   "cell_type": "code",
   "execution_count": 12,
   "metadata": {},
   "outputs": [
    {
     "name": "stdout",
     "output_type": "stream",
     "text": [
      "Distance: 8.8289638298645\n",
      "Sum of van der Waals radii: 3.4\n",
      "SMILES: C=CCCCCCCCCC, Atoms: (0, 10) -> Result: None\n",
      "Distance: 1.33466598359613\n",
      "Sum of van der Waals radii: 3.4\n",
      "SMILES: C=C, Atoms: (0, 1) -> Result: (0, 0, 0, 0, 0)\n"
     ]
    },
    {
     "name": "stderr",
     "output_type": "stream",
     "text": [
      "[17:59:13] Molecule does not have explicit Hs. Consider calling AddHs()\n",
      "[17:59:13] Molecule does not have explicit Hs. Consider calling AddHs()\n"
     ]
    }
   ],
   "source": [
    "from rdkit import Chem\n",
    "from rdkit.Chem import AllChem\n",
    "\n",
    "# Define test cases\n",
    "test_cases = [(\"CCCCCCCCCC=C\", 0, 10), # expected output: None\n",
    "              (\"C=C\", 0, 1) # expected output: (0, 0, 0, 0, 0)\n",
    "              ]\n",
    "\n",
    "# Initialize RDKit molecules and conformers\n",
    "molecules = []\n",
    "for smiles, a1, a2 in test_cases:\n",
    "    mol = Chem.MolFromSmiles(smiles)\n",
    "    AllChem.EmbedMolecule(mol)\n",
    "    molecules.append((mol, a1, a2))\n",
    "\n",
    "# Run test cases\n",
    "for mol, atom_1, atom_2 in molecules:\n",
    "    # Replace this with the actual function call\n",
    "    result = vdw_interactions(mol, atom_1, atom_2)\n",
    "    print(f\"SMILES: {Chem.MolToSmiles(mol)}, Atoms: ({atom_1}, {atom_2}) -> Result: {result}\")\n"
   ]
  },
  {
   "cell_type": "code",
   "execution_count": null,
   "metadata": {},
   "outputs": [],
   "source": [
    "test_mol = mol2_to_rdkit_mol(\"../../test_data/pdb/1a0q/1a0q_complex_charged.mol2\")\n"
   ]
  }
 ],
 "metadata": {
  "kernelspec": {
   "display_name": "affinity_env2",
   "language": "python",
   "name": "python3"
  },
  "language_info": {
   "codemirror_mode": {
    "name": "ipython",
    "version": 3
   },
   "file_extension": ".py",
   "mimetype": "text/x-python",
   "name": "python",
   "nbconvert_exporter": "python",
   "pygments_lexer": "ipython3",
   "version": "3.9.16"
  }
 },
 "nbformat": 4,
 "nbformat_minor": 2
}
