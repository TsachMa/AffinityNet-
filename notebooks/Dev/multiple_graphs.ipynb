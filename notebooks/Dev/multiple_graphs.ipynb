{
 "cells": [
  {
   "cell_type": "code",
   "execution_count": 1,
   "metadata": {},
   "outputs": [],
   "source": [
    "from rdkit.Chem.rdmolfiles import MolFromPDBFile\n",
    "from rdkit.Chem.rdchem import Mol\n",
    "from rdkit.Chem import AllChem\n",
    "\n",
    "import numpy as np\n",
    "import rdkit.Chem as Chem\n",
    "from rdkit.Chem import AddHs, AssignStereochemistry, HybridizationType, ChiralType, BondStereo, MolFromMol2File\n",
    "from rdkit.Chem.AllChem import ComputeGasteigerCharges\n",
    "import os\n",
    "import sys\n",
    "sys.path.append(\"../../\")\n",
    "from src.data.pocket_utils import get_atom_coordinates, find_pocket_atoms_RDKit\n",
    "from src.utils.constants import ES_THRESHOLD, METAL_OX_STATES\n",
    "from tqdm import tqdm "
   ]
  },
  {
   "cell_type": "code",
   "execution_count": 2,
   "metadata": {},
   "outputs": [],
   "source": [
    "from src.data.utils import pdb_to_rdkit_mol, mol2_to_rdkit_mol, get_vdw_radius, add_charges_to_molecule, get_node_features, get_edge_features, extract_charges_from_mol2, ionic_interaction_using_distance"
   ]
  },
  {
   "cell_type": "code",
   "execution_count": 3,
   "metadata": {},
   "outputs": [],
   "source": [
    "def rdkit_mol_featurizer(mol: Mol, \n",
    "                         pairwise_function: callable,\n",
    "                         ) -> tuple: \n",
    "    \"\"\"\n",
    "    Extracts graph features from a given RDKit molecule object.\n",
    "    Parameters:\n",
    "        mol (rdkit.Chem.rdchem.Mol): RDKit molecule object.\n",
    "        protein_or_ligand_ids (list): A list of ints describing whether each atom in the molecule is a protein (-1) or a ligand (1) atom. \n",
    "    Returns:\n",
    "        node_features (np.ndarray): A 2D array of shape (num_atoms, num_node_features) containing node features:\n",
    "            (protein_or_ligand_id, atomic_num, atomic_mass, aromatic_indicator, ring_indicator, hybridization, chirality, num_heteroatoms, degree, num_hydrogens, partial_charge, formal_charge, num_radical_electrons)\n",
    "        edge_features (np.ndarray): A 2D array of shape (num_bonds, num_edge_features) containing edge features.\n",
    "        edge_indices (np.ndarray): A 2D array of shape (num_bonds, 2) containing the indices of the atoms connected by each bond.\n",
    "    \"\"\"\n",
    "\n",
    "    AssignStereochemistry(mol, force=True, cleanIt=True)\n",
    "\n",
    "    node_features = get_node_features(mol)\n",
    "    \n",
    "    edge_features, edge_indices = get_edge_features(mol, pairwise_function)\n",
    "\n",
    "    return np.array(node_features, dtype='float64'), np.array(edge_features, dtype='float64'), np.array(edge_indices, dtype='int64')"
   ]
  },
  {
   "cell_type": "code",
   "execution_count": 4,
   "metadata": {},
   "outputs": [
    {
     "name": "stderr",
     "output_type": "stream",
     "text": [
      "[09:32:48] Molecule does not have explicit Hs. Consider calling AddHs()\n",
      "[09:32:48] Molecule does not have explicit Hs. Consider calling AddHs()\n",
      "[09:32:48] Molecule does not have explicit Hs. Consider calling AddHs()\n"
     ]
    }
   ],
   "source": [
    "# Define test cases\n",
    "test_cases = [(\"CCCCCCCCCC=C\", 0, 10), # expected output: None\n",
    "              (\"C=C\", 0, 1), # expected output:  (0, 0, 0, 0, 0, 1.3261131312034182)\n",
    "              (\"CC(=O)O\", 2, 3) # expected output: (0, 0, 0, 0, 0, 2.278544145756904)\n",
    "              ]\n",
    "\n",
    "def tag_atoms(mol, tag):\n",
    "    for atom in mol.GetAtoms():\n",
    "        atom.SetProp('protein_or_ligand', tag)\n",
    "\n",
    "# Initialize RDKit molecules and conformers\n",
    "molecules = []\n",
    "for smiles, a1, a2 in test_cases:\n",
    "    mol = Chem.MolFromSmiles(smiles)\n",
    "    AllChem.EmbedMolecule(mol)\n",
    "    molecules.append((mol, a1, a2))\n",
    "\n",
    "#tag all of the atoms to be ligands in teh test case\n",
    "for mol, a1, a2 in molecules:\n",
    "    tag_atoms(mol, 'ligand')\n"
   ]
  },
  {
   "cell_type": "code",
   "execution_count": 5,
   "metadata": {},
   "outputs": [
    {
     "name": "stdout",
     "output_type": "stream",
     "text": [
      "pairwise function: vdw_interactions\n",
      "Molecule:  C=CCCCCCCCCC\n",
      "Node features: \n"
     ]
    },
    {
     "name": "stderr",
     "output_type": "stream",
     "text": [
      "0it [00:00, ?it/s]\n",
      "0it [00:00, ?it/s]"
     ]
    },
    {
     "name": "stderr",
     "output_type": "stream",
     "text": [
      "11it [00:00, 871.63it/s]\n",
      "11it [00:00, 1284.88it/s]\n",
      "11it [00:00, 1587.06it/s]\n",
      "11it [00:00, 1854.32it/s]\n",
      "11it [00:00, 2458.69it/s]\n",
      "11it [00:00, 2704.57it/s]\n",
      "11it [00:00, 3580.70it/s]\n",
      "11it [00:00, 4753.49it/s]\n",
      "11it [00:00, 6913.00it/s]\n",
      "11it [00:00, 13451.12it/s]\n",
      "11it [00:00, 262144.00it/s]\n",
      "11it [00:00, 164.89it/s]\n"
     ]
    },
    {
     "name": "stdout",
     "output_type": "stream",
     "text": [
      "[[ 1.     6.    12.011  0.     0.     3.     0.     0.     1.     0.\n",
      "   0.     0.   ]\n",
      " [ 1.     6.    12.011  0.     0.     3.     0.     0.     2.     0.\n",
      "   0.     0.   ]\n",
      " [ 1.     6.    12.011  0.     0.     3.     0.     0.     2.     0.\n",
      "   0.     0.   ]\n",
      " [ 1.     6.    12.011  0.     0.     3.     0.     0.     2.     0.\n",
      "   0.     0.   ]\n",
      " [ 1.     6.    12.011  0.     0.     3.     0.     0.     2.     0.\n",
      "   0.     0.   ]\n",
      " [ 1.     6.    12.011  0.     0.     3.     0.     0.     2.     0.\n",
      "   0.     0.   ]\n",
      " [ 1.     6.    12.011  0.     0.     3.     0.     0.     2.     0.\n",
      "   0.     0.   ]\n",
      " [ 1.     6.    12.011  0.     0.     3.     0.     0.     2.     0.\n",
      "   0.     0.   ]\n",
      " [ 1.     6.    12.011  0.     0.     3.     0.     0.     2.     0.\n",
      "   0.     0.   ]\n",
      " [ 1.     6.    12.011  0.     0.     2.     0.     0.     2.     0.\n",
      "   0.     0.   ]\n",
      " [ 1.     6.    12.011  0.     0.     2.     0.     0.     1.     0.\n",
      "   0.     0.   ]]\n",
      "Edge features: \n"
     ]
    },
    {
     "name": "stderr",
     "output_type": "stream",
     "text": [
      "11it [00:00, 1224.65it/s]\n",
      "11it [00:00, 1420.13it/s]\n",
      "11it [00:00, 1814.86it/s]\n",
      "11it [00:00, 1869.73it/s]\n",
      "11it [00:00, 2428.79it/s]\n",
      "11it [00:00, 2939.62it/s]\n",
      "11it [00:00, 3557.51it/s]\n",
      "11it [00:00, 4380.68it/s]\n",
      "11it [00:00, 6567.59it/s]\n",
      "11it [00:00, 13646.06it/s]\n",
      "11it [00:00, 316009.21it/s]\n",
      "11it [00:00, 187.47it/s]\n"
     ]
    },
    {
     "name": "stdout",
     "output_type": "stream",
     "text": [
      "[[0. 0. 0. 0. 0.]\n",
      " [0. 0. 0. 0. 0.]\n",
      " [0. 0. 0. 0. 0.]\n",
      " [0. 0. 0. 0. 0.]\n",
      " [0. 0. 0. 0. 0.]\n",
      " [0. 0. 0. 0. 0.]\n",
      " [0. 0. 0. 0. 0.]\n",
      " [0. 0. 0. 0. 0.]\n",
      " [0. 0. 0. 0. 0.]\n",
      " [0. 0. 0. 0. 0.]\n",
      " [0. 0. 0. 0. 0.]\n",
      " [0. 0. 0. 0. 0.]\n",
      " [0. 0. 0. 0. 0.]\n",
      " [0. 0. 0. 0. 0.]\n",
      " [0. 0. 0. 0. 0.]\n",
      " [0. 0. 0. 0. 0.]\n",
      " [0. 0. 0. 0. 0.]\n",
      " [0. 0. 0. 0. 0.]\n",
      " [0. 0. 0. 0. 0.]\n",
      " [0. 0. 0. 0. 0.]\n",
      " [0. 0. 0. 0. 0.]\n",
      " [0. 0. 0. 0. 0.]\n",
      " [0. 0. 0. 0. 0.]\n",
      " [0. 0. 0. 0. 0.]\n",
      " [0. 0. 0. 0. 0.]\n",
      " [0. 0. 0. 0. 0.]\n",
      " [0. 0. 0. 0. 0.]\n",
      " [0. 0. 0. 0. 0.]\n",
      " [0. 0. 0. 0. 0.]\n",
      " [0. 0. 0. 0. 0.]\n",
      " [0. 0. 0. 0. 0.]\n",
      " [0. 0. 0. 0. 0.]\n",
      " [0. 0. 0. 0. 0.]\n",
      " [0. 0. 0. 0. 0.]\n",
      " [0. 0. 0. 0. 0.]\n",
      " [0. 0. 0. 0. 0.]\n",
      " [0. 0. 0. 0. 0.]\n",
      " [0. 0. 0. 0. 0.]\n",
      " [0. 0. 0. 0. 0.]\n",
      " [0. 0. 0. 0. 0.]\n",
      " [0. 0. 0. 0. 0.]\n",
      " [0. 0. 0. 0. 0.]\n",
      " [0. 0. 0. 0. 0.]\n",
      " [0. 0. 0. 0. 0.]]\n",
      "Edge indices: \n"
     ]
    },
    {
     "name": "stderr",
     "output_type": "stream",
     "text": [
      "11it [00:00, 1336.08it/s]\n",
      "11it [00:00, 1411.49it/s]\n",
      "11it [00:00, 1599.55it/s]\n",
      "11it [00:00, 2036.25it/s]\n",
      "11it [00:00, 2409.26it/s]\n",
      "11it [00:00, 2496.61it/s]\n",
      "11it [00:00, 3453.39it/s]\n",
      "11it [00:00, 4854.01it/s]\n",
      "11it [00:00, 4620.20it/s]\n",
      "11it [00:00, 9589.97it/s]\n",
      "11it [00:00, 180224.00it/s]\n",
      "11it [00:00, 106.29it/s]\n"
     ]
    },
    {
     "name": "stdout",
     "output_type": "stream",
     "text": [
      "[[ 0  1]\n",
      " [ 1  0]\n",
      " [ 0  2]\n",
      " [ 2  0]\n",
      " [ 0  3]\n",
      " [ 3  0]\n",
      " [ 1  2]\n",
      " [ 2  1]\n",
      " [ 1  3]\n",
      " [ 3  1]\n",
      " [ 2  3]\n",
      " [ 3  2]\n",
      " [ 2  4]\n",
      " [ 4  2]\n",
      " [ 2  5]\n",
      " [ 5  2]\n",
      " [ 3  4]\n",
      " [ 4  3]\n",
      " [ 3  5]\n",
      " [ 5  3]\n",
      " [ 4  5]\n",
      " [ 5  4]\n",
      " [ 4  6]\n",
      " [ 6  4]\n",
      " [ 5  6]\n",
      " [ 6  5]\n",
      " [ 5  7]\n",
      " [ 7  5]\n",
      " [ 5  8]\n",
      " [ 8  5]\n",
      " [ 6  7]\n",
      " [ 7  6]\n",
      " [ 6  8]\n",
      " [ 8  6]\n",
      " [ 7  8]\n",
      " [ 8  7]\n",
      " [ 7  9]\n",
      " [ 9  7]\n",
      " [ 8  9]\n",
      " [ 9  8]\n",
      " [ 8 10]\n",
      " [10  8]\n",
      " [ 9 10]\n",
      " [10  9]]\n",
      "\n",
      "\n",
      "pairwise function: ionic_interaction_using_distance\n",
      "Molecule:  C=CCCCCCCCCC\n",
      "Node features: \n"
     ]
    },
    {
     "name": "stderr",
     "output_type": "stream",
     "text": [
      "11it [00:00, 172154.27it/s]\n",
      "11it [00:00, 233016.89it/s]\n",
      "11it [00:00, 114484.72it/s]\n",
      "11it [00:00, 240298.67it/s]\n",
      "11it [00:00, 228402.69it/s]\n",
      "11it [00:00, 24502.04it/s]\n",
      "11it [00:00, 186037.68it/s]\n",
      "11it [00:00, 244112.93it/s]\n",
      "11it [00:00, 344308.54it/s]\n",
      "11it [00:00, 228402.69it/s]\n",
      "11it [00:00, 354902.65it/s]\n",
      "11it [00:00, 451.32it/s]\n"
     ]
    },
    {
     "name": "stdout",
     "output_type": "stream",
     "text": [
      "[[ 1.     6.    12.011  0.     0.     3.     0.     0.     1.     0.\n",
      "   0.     0.   ]\n",
      " [ 1.     6.    12.011  0.     0.     3.     0.     0.     2.     0.\n",
      "   0.     0.   ]\n",
      " [ 1.     6.    12.011  0.     0.     3.     0.     0.     2.     0.\n",
      "   0.     0.   ]\n",
      " [ 1.     6.    12.011  0.     0.     3.     0.     0.     2.     0.\n",
      "   0.     0.   ]\n",
      " [ 1.     6.    12.011  0.     0.     3.     0.     0.     2.     0.\n",
      "   0.     0.   ]\n",
      " [ 1.     6.    12.011  0.     0.     3.     0.     0.     2.     0.\n",
      "   0.     0.   ]\n",
      " [ 1.     6.    12.011  0.     0.     3.     0.     0.     2.     0.\n",
      "   0.     0.   ]\n",
      " [ 1.     6.    12.011  0.     0.     3.     0.     0.     2.     0.\n",
      "   0.     0.   ]\n",
      " [ 1.     6.    12.011  0.     0.     3.     0.     0.     2.     0.\n",
      "   0.     0.   ]\n",
      " [ 1.     6.    12.011  0.     0.     2.     0.     0.     2.     0.\n",
      "   0.     0.   ]\n",
      " [ 1.     6.    12.011  0.     0.     2.     0.     0.     1.     0.\n",
      "   0.     0.   ]]\n",
      "Edge features: \n"
     ]
    },
    {
     "name": "stderr",
     "output_type": "stream",
     "text": [
      "11it [00:00, 102755.78it/s]\n",
      "11it [00:00, 219701.64it/s]\n",
      "11it [00:00, 223967.69it/s]\n",
      "11it [00:00, 222885.72it/s]\n",
      "11it [00:00, 290171.97it/s]\n",
      "11it [00:00, 256318.58it/s]\n",
      "11it [00:00, 225060.21it/s]\n",
      "11it [00:00, 292008.51it/s]\n",
      "11it [00:00, 297660.28it/s]\n",
      "11it [00:00, 352193.47it/s]\n",
      "11it [00:00, 135698.07it/s]\n",
      "11it [00:00, 839.43it/s]\n"
     ]
    },
    {
     "name": "stdout",
     "output_type": "stream",
     "text": [
      "[[0.         0.         0.         0.         0.         1.48746922]\n",
      " [0.         0.         0.         0.         0.         1.48746922]\n",
      " [0.         0.         0.         0.         0.         2.50740432]\n",
      " [0.         0.         0.         0.         0.         2.50740432]\n",
      " [0.         0.         0.         0.         0.         3.04999326]\n",
      " [0.         0.         0.         0.         0.         3.04999326]\n",
      " [0.         0.         0.         0.         0.         4.42182585]\n",
      " [0.         0.         0.         0.         0.         4.42182585]\n",
      " [0.         0.         0.         0.         0.         1.485333  ]\n",
      " [0.         0.         0.         0.         0.         1.485333  ]\n",
      " [0.         0.         0.         0.         0.         2.50769486]\n",
      " [0.         0.         0.         0.         0.         2.50769486]\n",
      " [0.         0.         0.         0.         0.         3.79374324]\n",
      " [0.         0.         0.         0.         0.         3.79374324]\n",
      " [0.         0.         0.         0.         0.         4.24302584]\n",
      " [0.         0.         0.         0.         0.         4.24302584]\n",
      " [0.         0.         0.         0.         0.         1.49994301]\n",
      " [0.         0.         0.         0.         0.         1.49994301]\n",
      " [0.         0.         0.         0.         0.         2.4261866 ]\n",
      " [0.         0.         0.         0.         0.         2.4261866 ]\n",
      " [0.         0.         0.         0.         0.         2.86453842]\n",
      " [0.         0.         0.         0.         0.         2.86453842]\n",
      " [0.         0.         0.         0.         0.         4.23526229]\n",
      " [0.         0.         0.         0.         0.         4.23526229]\n",
      " [0.         0.         0.         0.         0.         4.76016867]\n",
      " [0.         0.         0.         0.         0.         4.76016867]\n",
      " [0.         0.         0.         0.         0.         1.5156267 ]\n",
      " [0.         0.         0.         0.         0.         1.5156267 ]\n",
      " [0.         0.         0.         0.         0.         2.48655686]\n",
      " [0.         0.         0.         0.         0.         2.48655686]\n",
      " [0.         0.         0.         0.         0.         3.83013548]\n",
      " [0.         0.         0.         0.         0.         3.83013548]\n",
      " [0.         0.         0.         0.         0.         4.92395476]\n",
      " [0.         0.         0.         0.         0.         4.92395476]\n",
      " [0.         0.         0.         0.         0.         1.51251236]\n",
      " [0.         0.         0.         0.         0.         1.51251236]\n",
      " [0.         0.         0.         0.         0.         2.49924493]\n",
      " [0.         0.         0.         0.         0.         2.49924493]\n",
      " [0.         0.         0.         0.         0.         3.81176682]\n",
      " [0.         0.         0.         0.         0.         3.81176682]\n",
      " [0.         0.         0.         0.         0.         4.20209483]\n",
      " [0.         0.         0.         0.         0.         4.20209483]\n",
      " [0.         0.         0.         0.         0.         1.49483781]\n",
      " [0.         0.         0.         0.         0.         1.49483781]\n",
      " [0.         0.         0.         0.         0.         2.43946959]\n",
      " [0.         0.         0.         0.         0.         2.43946959]\n",
      " [0.         0.         0.         0.         0.         2.8145157 ]\n",
      " [0.         0.         0.         0.         0.         2.8145157 ]\n",
      " [0.         0.         0.         0.         0.         4.16727725]\n",
      " [0.         0.         0.         0.         0.         4.16727725]\n",
      " [0.         0.         0.         0.         0.         1.51346173]\n",
      " [0.         0.         0.         0.         0.         1.51346173]\n",
      " [0.         0.         0.         0.         0.         2.43224898]\n",
      " [0.         0.         0.         0.         0.         2.43224898]\n",
      " [0.         0.         0.         0.         0.         3.74536101]\n",
      " [0.         0.         0.         0.         0.         3.74536101]\n",
      " [0.         0.         0.         0.         0.         4.72428486]\n",
      " [0.         0.         0.         0.         0.         4.72428486]\n",
      " [0.         0.         0.         0.         0.         1.51915145]\n",
      " [0.         0.         0.         0.         0.         1.51915145]\n",
      " [0.         0.         0.         0.         0.         2.43539906]\n",
      " [0.         0.         0.         0.         0.         2.43539906]\n",
      " [0.         0.         0.         0.         0.         3.48405015]\n",
      " [0.         0.         0.         0.         0.         3.48405015]\n",
      " [0.         0.         0.         0.         0.         1.48356279]\n",
      " [0.         0.         0.         0.         0.         1.48356279]\n",
      " [0.         0.         0.         0.         0.         2.4677847 ]\n",
      " [0.         0.         0.         0.         0.         2.4677847 ]\n",
      " [0.         0.         0.         0.         0.         1.33946022]\n",
      " [0.         0.         0.         0.         0.         1.33946022]]\n",
      "Edge indices: \n"
     ]
    },
    {
     "name": "stderr",
     "output_type": "stream",
     "text": [
      "11it [00:00, 154305.50it/s]\n",
      "11it [00:00, 268240.37it/s]\n",
      "11it [00:00, 244112.93it/s]\n",
      "11it [00:00, 313859.48it/s]\n",
      "11it [00:00, 233016.89it/s]\n",
      "11it [00:00, 260662.96it/s]\n",
      "11it [00:00, 269809.03it/s]\n",
      "11it [00:00, 254902.45it/s]\n",
      "11it [00:00, 123692.61it/s]\n",
      "11it [00:00, 316009.21it/s]\n",
      "11it [00:00, 427197.63it/s]\n",
      "11it [00:00, 942.93it/s]\n"
     ]
    },
    {
     "name": "stdout",
     "output_type": "stream",
     "text": [
      "[[ 0  1]\n",
      " [ 1  0]\n",
      " [ 0  2]\n",
      " [ 2  0]\n",
      " [ 0  3]\n",
      " [ 3  0]\n",
      " [ 0  4]\n",
      " [ 4  0]\n",
      " [ 1  2]\n",
      " [ 2  1]\n",
      " [ 1  3]\n",
      " [ 3  1]\n",
      " [ 1  4]\n",
      " [ 4  1]\n",
      " [ 1  5]\n",
      " [ 5  1]\n",
      " [ 2  3]\n",
      " [ 3  2]\n",
      " [ 2  4]\n",
      " [ 4  2]\n",
      " [ 2  5]\n",
      " [ 5  2]\n",
      " [ 2  6]\n",
      " [ 6  2]\n",
      " [ 2  8]\n",
      " [ 8  2]\n",
      " [ 3  4]\n",
      " [ 4  3]\n",
      " [ 3  5]\n",
      " [ 5  3]\n",
      " [ 3  6]\n",
      " [ 6  3]\n",
      " [ 3  7]\n",
      " [ 7  3]\n",
      " [ 4  5]\n",
      " [ 5  4]\n",
      " [ 4  6]\n",
      " [ 6  4]\n",
      " [ 4  7]\n",
      " [ 7  4]\n",
      " [ 4  8]\n",
      " [ 8  4]\n",
      " [ 5  6]\n",
      " [ 6  5]\n",
      " [ 5  7]\n",
      " [ 7  5]\n",
      " [ 5  8]\n",
      " [ 8  5]\n",
      " [ 5  9]\n",
      " [ 9  5]\n",
      " [ 6  7]\n",
      " [ 7  6]\n",
      " [ 6  8]\n",
      " [ 8  6]\n",
      " [ 6  9]\n",
      " [ 9  6]\n",
      " [ 6 10]\n",
      " [10  6]\n",
      " [ 7  8]\n",
      " [ 8  7]\n",
      " [ 7  9]\n",
      " [ 9  7]\n",
      " [ 7 10]\n",
      " [10  7]\n",
      " [ 8  9]\n",
      " [ 9  8]\n",
      " [ 8 10]\n",
      " [10  8]\n",
      " [ 9 10]\n",
      " [10  9]]\n",
      "\n",
      "\n",
      "pairwise function: covalent_bonds\n",
      "Molecule:  C=CCCCCCCCCC\n",
      "Node features: \n"
     ]
    },
    {
     "name": "stderr",
     "output_type": "stream",
     "text": [
      "11it [00:00, 180930.76it/s]\n",
      "11it [00:00, 297660.28it/s]\n",
      "11it [00:00, 254902.45it/s]\n",
      "11it [00:00, 290171.97it/s]\n",
      "11it [00:00, 281325.27it/s]\n",
      "11it [00:00, 171514.29it/s]\n",
      "11it [00:00, 225060.21it/s]\n",
      "11it [00:00, 156929.74it/s]\n",
      "11it [00:00, 256318.58it/s]\n",
      "11it [00:00, 354902.65it/s]\n",
      "11it [00:00, 369098.75it/s]\n",
      "11it [00:00, 670.94it/s]\n"
     ]
    },
    {
     "name": "stdout",
     "output_type": "stream",
     "text": [
      "[[ 1.     6.    12.011  0.     0.     3.     0.     0.     1.     0.\n",
      "   0.     0.   ]\n",
      " [ 1.     6.    12.011  0.     0.     3.     0.     0.     2.     0.\n",
      "   0.     0.   ]\n",
      " [ 1.     6.    12.011  0.     0.     3.     0.     0.     2.     0.\n",
      "   0.     0.   ]\n",
      " [ 1.     6.    12.011  0.     0.     3.     0.     0.     2.     0.\n",
      "   0.     0.   ]\n",
      " [ 1.     6.    12.011  0.     0.     3.     0.     0.     2.     0.\n",
      "   0.     0.   ]\n",
      " [ 1.     6.    12.011  0.     0.     3.     0.     0.     2.     0.\n",
      "   0.     0.   ]\n",
      " [ 1.     6.    12.011  0.     0.     3.     0.     0.     2.     0.\n",
      "   0.     0.   ]\n",
      " [ 1.     6.    12.011  0.     0.     3.     0.     0.     2.     0.\n",
      "   0.     0.   ]\n",
      " [ 1.     6.    12.011  0.     0.     3.     0.     0.     2.     0.\n",
      "   0.     0.   ]\n",
      " [ 1.     6.    12.011  0.     0.     2.     0.     0.     2.     0.\n",
      "   0.     0.   ]\n",
      " [ 1.     6.    12.011  0.     0.     2.     0.     0.     1.     0.\n",
      "   0.     0.   ]]\n",
      "Edge features: \n"
     ]
    },
    {
     "name": "stderr",
     "output_type": "stream",
     "text": [
      "11it [00:00, 334328.58it/s]\n",
      "11it [00:00, 54407.25it/s]\n",
      "11it [00:00, 334328.58it/s]\n",
      "11it [00:00, 215595.07it/s]\n",
      "11it [00:00, 249391.05it/s]\n",
      "11it [00:00, 250746.43it/s]\n",
      "11it [00:00, 249391.05it/s]\n",
      "11it [00:00, 279620.27it/s]\n",
      "11it [00:00, 334328.58it/s]\n",
      "11it [00:00, 36558.91it/s]\n",
      "11it [00:00, 225060.21it/s]\n",
      "11it [00:00, 801.93it/s]\n"
     ]
    },
    {
     "name": "stdout",
     "output_type": "stream",
     "text": [
      "[[1. 0. 0. 0. 0.]\n",
      " [1. 0. 0. 0. 0.]\n",
      " [1. 0. 0. 0. 0.]\n",
      " [1. 0. 0. 0. 0.]\n",
      " [1. 0. 0. 0. 0.]\n",
      " [1. 0. 0. 0. 0.]\n",
      " [1. 0. 0. 0. 0.]\n",
      " [1. 0. 0. 0. 0.]\n",
      " [1. 0. 0. 0. 0.]\n",
      " [1. 0. 0. 0. 0.]\n",
      " [1. 0. 0. 0. 0.]\n",
      " [1. 0. 0. 0. 0.]\n",
      " [1. 0. 0. 0. 0.]\n",
      " [1. 0. 0. 0. 0.]\n",
      " [1. 0. 0. 0. 0.]\n",
      " [1. 0. 0. 0. 0.]\n",
      " [1. 0. 0. 0. 0.]\n",
      " [1. 0. 0. 0. 0.]\n",
      " [2. 0. 0. 0. 0.]\n",
      " [2. 0. 0. 0. 0.]]\n",
      "Edge indices: \n"
     ]
    },
    {
     "name": "stderr",
     "output_type": "stream",
     "text": [
      "11it [00:00, 281325.27it/s]\n",
      "11it [00:00, 229539.02it/s]\n",
      "11it [00:00, 219701.64it/s]\n",
      "11it [00:00, 234199.72it/s]\n",
      "11it [00:00, 290171.97it/s]\n",
      "11it [00:00, 211639.19it/s]\n",
      "11it [00:00, 189865.61it/s]\n",
      "11it [00:00, 123361.88it/s]\n",
      "11it [00:00, 316009.21it/s]\n",
      "11it [00:00, 239053.60it/s]\n",
      "11it [00:00, 118300.88it/s]\n",
      "11it [00:00, 938.57it/s]\n"
     ]
    },
    {
     "name": "stdout",
     "output_type": "stream",
     "text": [
      "[[ 0  1]\n",
      " [ 1  0]\n",
      " [ 1  2]\n",
      " [ 2  1]\n",
      " [ 2  3]\n",
      " [ 3  2]\n",
      " [ 3  4]\n",
      " [ 4  3]\n",
      " [ 4  5]\n",
      " [ 5  4]\n",
      " [ 5  6]\n",
      " [ 6  5]\n",
      " [ 6  7]\n",
      " [ 7  6]\n",
      " [ 7  8]\n",
      " [ 8  7]\n",
      " [ 8  9]\n",
      " [ 9  8]\n",
      " [ 9 10]\n",
      " [10  9]]\n",
      "\n",
      "\n",
      "pairwise function: vdw_interactions\n",
      "Molecule:  C=C\n",
      "Node features: \n"
     ]
    },
    {
     "name": "stderr",
     "output_type": "stream",
     "text": [
      "2it [00:00, 1736.05it/s]\n",
      "2it [00:00, 83055.52it/s]\n",
      "2it [00:00, 609.37it/s]\n"
     ]
    },
    {
     "name": "stdout",
     "output_type": "stream",
     "text": [
      "[[ 1.     6.    12.011  0.     0.     2.     0.     0.     1.     0.\n",
      "   0.     0.   ]\n",
      " [ 1.     6.    12.011  0.     0.     2.     0.     0.     1.     0.\n",
      "   0.     0.   ]]\n",
      "Edge features: \n"
     ]
    },
    {
     "name": "stderr",
     "output_type": "stream",
     "text": [
      "2it [00:00, 1777.62it/s]\n",
      "2it [00:00, 43464.29it/s]\n",
      "2it [00:00, 505.67it/s]\n"
     ]
    },
    {
     "name": "stdout",
     "output_type": "stream",
     "text": [
      "[[0. 0. 0. 0. 0.]\n",
      " [0. 0. 0. 0. 0.]]\n",
      "Edge indices: \n"
     ]
    },
    {
     "name": "stderr",
     "output_type": "stream",
     "text": [
      "2it [00:00, 1691.93it/s]\n",
      "2it [00:00, 24600.02it/s]\n",
      "2it [00:00, 45.48it/s]\n"
     ]
    },
    {
     "name": "stdout",
     "output_type": "stream",
     "text": [
      "[[0 1]\n",
      " [1 0]]\n",
      "\n",
      "\n",
      "pairwise function: ionic_interaction_using_distance\n",
      "Molecule:  C=C\n",
      "Node features: \n"
     ]
    },
    {
     "name": "stderr",
     "output_type": "stream",
     "text": [
      "2it [00:00, 41734.37it/s]\n",
      "2it [00:00, 62601.55it/s]\n",
      "2it [00:00, 672.49it/s]\n"
     ]
    },
    {
     "name": "stdout",
     "output_type": "stream",
     "text": [
      "[[ 1.     6.    12.011  0.     0.     2.     0.     0.     1.     0.\n",
      "   0.     0.   ]\n",
      " [ 1.     6.    12.011  0.     0.     2.     0.     0.     1.     0.\n",
      "   0.     0.   ]]\n",
      "Edge features: \n"
     ]
    },
    {
     "name": "stderr",
     "output_type": "stream",
     "text": [
      "2it [00:00, 79891.50it/s]\n",
      "2it [00:00, 79891.50it/s]\n",
      "2it [00:00, 783.40it/s]\n"
     ]
    },
    {
     "name": "stdout",
     "output_type": "stream",
     "text": [
      "[[0.         0.         0.         0.         0.         1.32702271]\n",
      " [0.         0.         0.         0.         0.         1.32702271]]\n",
      "Edge indices: \n"
     ]
    },
    {
     "name": "stderr",
     "output_type": "stream",
     "text": [
      "2it [00:00, 33825.03it/s]\n",
      "2it [00:00, 66576.25it/s]\n",
      "2it [00:00, 585.67it/s]\n"
     ]
    },
    {
     "name": "stdout",
     "output_type": "stream",
     "text": [
      "[[0 1]\n",
      " [1 0]]\n",
      "\n",
      "\n",
      "pairwise function: covalent_bonds\n",
      "Molecule:  C=C\n",
      "Node features: \n"
     ]
    },
    {
     "name": "stderr",
     "output_type": "stream",
     "text": [
      "2it [00:00, 13662.23it/s]\n",
      "2it [00:00, 77672.30it/s]\n",
      "2it [00:00, 741.90it/s]\n"
     ]
    },
    {
     "name": "stdout",
     "output_type": "stream",
     "text": [
      "[[ 1.     6.    12.011  0.     0.     2.     0.     0.     1.     0.\n",
      "   0.     0.   ]\n",
      " [ 1.     6.    12.011  0.     0.     2.     0.     0.     1.     0.\n",
      "   0.     0.   ]]\n",
      "Edge features: \n"
     ]
    },
    {
     "name": "stderr",
     "output_type": "stream",
     "text": [
      "2it [00:00, 24385.49it/s]\n",
      "2it [00:00, 31184.42it/s]\n",
      "2it [00:00, 38.70it/s]\n"
     ]
    },
    {
     "name": "stdout",
     "output_type": "stream",
     "text": [
      "[[2. 0. 0. 0. 0.]\n",
      " [2. 0. 0. 0. 0.]]\n",
      "Edge indices: \n"
     ]
    },
    {
     "name": "stderr",
     "output_type": "stream",
     "text": [
      "2it [00:00, 45590.26it/s]\n",
      "2it [00:00, 58661.59it/s]\n",
      "2it [00:00, 585.63it/s]\n"
     ]
    },
    {
     "name": "stdout",
     "output_type": "stream",
     "text": [
      "[[0 1]\n",
      " [1 0]]\n",
      "\n",
      "\n",
      "pairwise function: vdw_interactions\n",
      "Molecule:  CC(=O)O\n",
      "Node features: \n"
     ]
    },
    {
     "name": "stderr",
     "output_type": "stream",
     "text": [
      "4it [00:00, 1079.34it/s]\n",
      "4it [00:00, 1805.94it/s]\n",
      "4it [00:00, 2998.61it/s]\n",
      "4it [00:00, 120699.40it/s]\n",
      "4it [00:00, 199.55it/s]\n"
     ]
    },
    {
     "name": "stdout",
     "output_type": "stream",
     "text": [
      "[[ 1.     6.    12.011  0.     0.     3.     0.     0.     1.     0.\n",
      "   0.     0.   ]\n",
      " [ 1.     6.    12.011  0.     0.     2.     0.     2.     3.     0.\n",
      "   0.     0.   ]\n",
      " [ 1.     8.    15.999  0.     0.     2.     0.     1.     1.     0.\n",
      "   0.     0.   ]\n",
      " [ 1.     8.    15.999  0.     0.     2.     0.     1.     1.     0.\n",
      "   0.     0.   ]]\n",
      "Edge features: \n"
     ]
    },
    {
     "name": "stderr",
     "output_type": "stream",
     "text": [
      "4it [00:00, 1754.20it/s]\n",
      "4it [00:00, 1630.60it/s]\n",
      "4it [00:00, 4044.65it/s]\n",
      "4it [00:00, 138654.68it/s]\n",
      "4it [00:00, 289.77it/s]\n"
     ]
    },
    {
     "name": "stdout",
     "output_type": "stream",
     "text": [
      "[[0. 0. 0. 0. 0.]\n",
      " [0. 0. 0. 0. 0.]\n",
      " [0. 0. 0. 0. 0.]\n",
      " [0. 0. 0. 0. 0.]\n",
      " [0. 0. 0. 0. 0.]\n",
      " [0. 0. 0. 0. 0.]\n",
      " [0. 0. 0. 0. 0.]\n",
      " [0. 0. 0. 0. 0.]\n",
      " [0. 0. 0. 0. 0.]\n",
      " [0. 0. 0. 0. 0.]\n",
      " [0. 0. 0. 0. 0.]\n",
      " [0. 0. 0. 0. 0.]]\n",
      "Edge indices: \n"
     ]
    },
    {
     "name": "stderr",
     "output_type": "stream",
     "text": [
      "4it [00:00, 1474.79it/s]\n",
      "4it [00:00, 1967.77it/s]\n",
      "4it [00:00, 1481.43it/s]\n",
      "4it [00:00, 104857.60it/s]\n",
      "4it [00:00, 242.58it/s]\n"
     ]
    },
    {
     "name": "stdout",
     "output_type": "stream",
     "text": [
      "[[0 1]\n",
      " [1 0]\n",
      " [0 2]\n",
      " [2 0]\n",
      " [0 3]\n",
      " [3 0]\n",
      " [1 2]\n",
      " [2 1]\n",
      " [1 3]\n",
      " [3 1]\n",
      " [2 3]\n",
      " [3 2]]\n",
      "\n",
      "\n",
      "pairwise function: ionic_interaction_using_distance\n",
      "Molecule:  CC(=O)O\n",
      "Node features: \n"
     ]
    },
    {
     "name": "stderr",
     "output_type": "stream",
     "text": [
      "4it [00:00, 104857.60it/s]\n",
      "4it [00:00, 7925.00it/s]\n",
      "4it [00:00, 8905.10it/s]\n",
      "4it [00:00, 153919.41it/s]\n",
      "4it [00:00, 274.63it/s]\n"
     ]
    },
    {
     "name": "stdout",
     "output_type": "stream",
     "text": [
      "[[ 1.     6.    12.011  0.     0.     3.     0.     0.     1.     0.\n",
      "   0.     0.   ]\n",
      " [ 1.     6.    12.011  0.     0.     2.     0.     2.     3.     0.\n",
      "   0.     0.   ]\n",
      " [ 1.     8.    15.999  0.     0.     2.     0.     1.     1.     0.\n",
      "   0.     0.   ]\n",
      " [ 1.     8.    15.999  0.     0.     2.     0.     1.     1.     0.\n",
      "   0.     0.   ]]\n",
      "Edge features: \n"
     ]
    },
    {
     "name": "stderr",
     "output_type": "stream",
     "text": [
      "4it [00:00, 117323.19it/s]\n",
      "4it [00:00, 69042.04it/s]\n",
      "4it [00:00, 124275.67it/s]\n",
      "4it [00:00, 125203.10it/s]\n",
      "4it [00:00, 320.46it/s]\n"
     ]
    },
    {
     "name": "stdout",
     "output_type": "stream",
     "text": [
      "[[0.         0.         0.         0.         0.         1.4733525 ]\n",
      " [0.         0.         0.         0.         0.         1.4733525 ]\n",
      " [0.         0.         0.         0.         0.         2.38709914]\n",
      " [0.         0.         0.         0.         0.         2.38709914]\n",
      " [0.         0.         0.         0.         0.         2.46098857]\n",
      " [0.         0.         0.         0.         0.         2.46098857]\n",
      " [0.         0.         0.         0.         0.         1.24944669]\n",
      " [0.         0.         0.         0.         0.         1.24944669]\n",
      " [0.         0.         0.         0.         0.         1.3889745 ]\n",
      " [0.         0.         0.         0.         0.         1.3889745 ]\n",
      " [0.         0.         0.         0.         0.         2.27633709]\n",
      " [0.         0.         0.         0.         0.         2.27633709]]\n",
      "Edge indices: \n"
     ]
    },
    {
     "name": "stderr",
     "output_type": "stream",
     "text": [
      "4it [00:00, 88768.34it/s]\n",
      "4it [00:00, 5160.63it/s]\n",
      "4it [00:00, 9998.34it/s]\n",
      "4it [00:00, 117323.19it/s]\n",
      "4it [00:00, 393.17it/s]\n"
     ]
    },
    {
     "name": "stdout",
     "output_type": "stream",
     "text": [
      "[[0 1]\n",
      " [1 0]\n",
      " [0 2]\n",
      " [2 0]\n",
      " [0 3]\n",
      " [3 0]\n",
      " [1 2]\n",
      " [2 1]\n",
      " [1 3]\n",
      " [3 1]\n",
      " [2 3]\n",
      " [3 2]]\n",
      "\n",
      "\n",
      "pairwise function: covalent_bonds\n",
      "Molecule:  CC(=O)O\n",
      "Node features: \n"
     ]
    },
    {
     "name": "stderr",
     "output_type": "stream",
     "text": [
      "4it [00:00, 104857.60it/s]\n",
      "4it [00:00, 73908.44it/s]\n",
      "4it [00:00, 111107.39it/s]\n",
      "4it [00:00, 148470.94it/s]\n",
      "4it [00:00, 337.21it/s]\n"
     ]
    },
    {
     "name": "stdout",
     "output_type": "stream",
     "text": [
      "[[ 1.     6.    12.011  0.     0.     3.     0.     0.     1.     0.\n",
      "   0.     0.   ]\n",
      " [ 1.     6.    12.011  0.     0.     2.     0.     2.     3.     0.\n",
      "   0.     0.   ]\n",
      " [ 1.     8.    15.999  0.     0.     2.     0.     1.     1.     0.\n",
      "   0.     0.   ]\n",
      " [ 1.     8.    15.999  0.     0.     2.     0.     1.     1.     0.\n",
      "   0.     0.   ]]\n",
      "Edge features: \n"
     ]
    },
    {
     "name": "stderr",
     "output_type": "stream",
     "text": [
      "4it [00:00, 125203.10it/s]\n",
      "4it [00:00, 90687.65it/s]\n",
      "4it [00:00, 122461.43it/s]\n",
      "4it [00:00, 4993.22it/s]\n",
      "4it [00:00, 278.52it/s]\n"
     ]
    },
    {
     "name": "stdout",
     "output_type": "stream",
     "text": [
      "[[1. 0. 0. 0. 0.]\n",
      " [1. 0. 0. 0. 0.]\n",
      " [2. 0. 1. 0. 0.]\n",
      " [2. 0. 1. 0. 0.]\n",
      " [1. 0. 1. 0. 0.]\n",
      " [1. 0. 1. 0. 0.]]\n",
      "Edge indices: \n"
     ]
    },
    {
     "name": "stderr",
     "output_type": "stream",
     "text": [
      "4it [00:00, 102927.71it/s]\n",
      "4it [00:00, 99864.38it/s]\n",
      "4it [00:00, 5419.00it/s]\n",
      "4it [00:00, 111107.39it/s]\n",
      "4it [00:00, 239.89it/s]"
     ]
    },
    {
     "name": "stdout",
     "output_type": "stream",
     "text": [
      "[[0 1]\n",
      " [1 0]\n",
      " [1 2]\n",
      " [2 1]\n",
      " [1 3]\n",
      " [3 1]]\n",
      "\n",
      "\n"
     ]
    },
    {
     "name": "stderr",
     "output_type": "stream",
     "text": [
      "\n"
     ]
    }
   ],
   "source": [
    "from src.data.utils import vdw_interactions, ionic_interaction_using_distance, covalent_bonds\n",
    "\n",
    "#for each molecule in the test case, get the node features and edge features for the different pairwise functions\n",
    "\n",
    "for mol, a1, a2 in molecules:\n",
    "    print(\"pairwise function: vdw_interactions\")\n",
    "    print(\"Molecule: \", Chem.MolToSmiles(mol))\n",
    "    print(\"Node features: \")\n",
    "    print(rdkit_mol_featurizer(mol, vdw_interactions)[0])\n",
    "    print(\"Edge features: \")\n",
    "    print(rdkit_mol_featurizer(mol, vdw_interactions)[1])\n",
    "    print(\"Edge indices: \")\n",
    "    print(rdkit_mol_featurizer(mol, vdw_interactions)[2])\n",
    "    print(\"\\n\")\n",
    "\n",
    "    print(\"pairwise function: ionic_interaction_using_distance\")\n",
    "    print(\"Molecule: \", Chem.MolToSmiles(mol))\n",
    "    print(\"Node features: \")\n",
    "    print(rdkit_mol_featurizer(mol, ionic_interaction_using_distance)[0])\n",
    "    print(\"Edge features: \")\n",
    "    print(rdkit_mol_featurizer(mol, ionic_interaction_using_distance)[1])\n",
    "    print(\"Edge indices: \")\n",
    "    print(rdkit_mol_featurizer(mol, ionic_interaction_using_distance)[2])\n",
    "    print(\"\\n\")\n",
    "\n",
    "    print(\"pairwise function: covalent_bonds\")\n",
    "    print(\"Molecule: \", Chem.MolToSmiles(mol))\n",
    "    print(\"Node features: \")\n",
    "    print(rdkit_mol_featurizer(mol, covalent_bonds)[0])\n",
    "    print(\"Edge features: \")\n",
    "    print(rdkit_mol_featurizer(mol, covalent_bonds)[1])\n",
    "    print(\"Edge indices: \")\n",
    "    print(rdkit_mol_featurizer(mol, covalent_bonds)[2])\n",
    "    print(\"\\n\")"
   ]
  },
  {
   "cell_type": "code",
   "execution_count": null,
   "metadata": {},
   "outputs": [],
   "source": []
  }
 ],
 "metadata": {
  "kernelspec": {
   "display_name": "affinity_env2",
   "language": "python",
   "name": "python3"
  },
  "language_info": {
   "codemirror_mode": {
    "name": "ipython",
    "version": 3
   },
   "file_extension": ".py",
   "mimetype": "text/x-python",
   "name": "python",
   "nbconvert_exporter": "python",
   "pygments_lexer": "ipython3",
   "version": "3.9.16"
  }
 },
 "nbformat": 4,
 "nbformat_minor": 2
}
