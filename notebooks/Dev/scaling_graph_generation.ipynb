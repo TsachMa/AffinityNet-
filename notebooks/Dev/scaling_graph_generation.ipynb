{
 "cells": [
  {
   "cell_type": "code",
   "execution_count": 10,
   "metadata": {},
   "outputs": [],
   "source": [
    "import numpy as np\n",
    "import rdkit.Chem as Chem\n",
    "import sys\n",
    "import os\n",
    "sys.path.append(\"../../\")\n",
    "\n",
    "import h5py\n",
    "from tqdm import tqdm\n",
    "from src.data.utils import pdb_to_rdkit_mol, mol2_to_rdkit_mol\n",
    "from src.data.utils import rdkit_mol_featurizer\n",
    "from src.data.pocket_utils import combine_and_filter, remove_waters"
   ]
  },
  {
   "cell_type": "code",
   "execution_count": 11,
   "metadata": {},
   "outputs": [],
   "source": [
    "def extend_protein_data_dict(protein_data, protein_name, vdw_graph, ionic_graph, cov_graph):\n",
    "    protein_data[protein_name] = {}\n",
    "    protein_data[protein_name]['vdw'] = {}\n",
    "    protein_data[protein_name]['vdw']['node_features'] = vdw_graph[0]\n",
    "    protein_data[protein_name]['vdw']['edge_features'] = vdw_graph[1]\n",
    "    protein_data[protein_name]['vdw']['edge_list'] = vdw_graph[2]\n",
    "\n",
    "    protein_data[protein_name]['ionic'] = {}\n",
    "    protein_data[protein_name]['ionic']['node_features'] = ionic_graph[0]\n",
    "    protein_data[protein_name]['ionic']['edge_features'] = ionic_graph[1]\n",
    "    protein_data[protein_name]['ionic']['edge_list'] = ionic_graph[2]\n",
    "\n",
    "    protein_data[protein_name]['cov'] = {}\n",
    "    protein_data[protein_name]['cov']['node_features'] = cov_graph[0]\n",
    "    protein_data[protein_name]['cov']['edge_features'] = cov_graph[1]\n",
    "    protein_data[protein_name]['cov']['edge_list'] = cov_graph[2]\n",
    "\n",
    "    return protein_data\n",
    "\n",
    "# Function to save data to HDF5\n",
    "def save_protein_data_to_hdf5(file_name, protein_data):\n",
    "    with h5py.File(file_name, 'w') as f:\n",
    "        for protein, graphs in protein_data.items():\n",
    "            protein_group = f.create_group(protein)\n",
    "            for graph_name, graph_data in graphs.items():\n",
    "                graph_group = protein_group.create_group(graph_name)\n",
    "                for data_name, data in graph_data.items():\n",
    "                    graph_group.create_dataset(data_name, data=data)\n",
    "\n",
    "def load_protein_data_from_hdf5(file_name):\n",
    "    with h5py.File(file_name, 'r') as f:\n",
    "        protein_data = {}\n",
    "        for protein in f.keys():\n",
    "            protein_data[protein] = {}\n",
    "            for graph_name in f[protein].keys():\n",
    "                protein_data[protein][graph_name] = {\n",
    "                    'node_features': f[protein][graph_name]['node_features'][:],\n",
    "                    'edge_features': f[protein][graph_name]['edge_features'][:],\n",
    "                    'edge_list': f[protein][graph_name]['edge_list'][:]\n",
    "                }\n",
    "    return protein_data\n"
   ]
  },
  {
   "cell_type": "code",
   "execution_count": 12,
   "metadata": {},
   "outputs": [],
   "source": [
    "# protein_data = {\n",
    "#     'protein_1': {\n",
    "#         'graph_1': {\n",
    "#             'node_features': np.random.rand(5, 10),\n",
    "#             'edge_features': np.random.rand(4, 5),\n",
    "#             'edge_list': np.array([(0, 1), (1, 2), (2, 3), (3, 4)])\n",
    "#         },\n",
    "#         'graph_2': {\n",
    "#             'node_features': np.random.rand(5, 10),\n",
    "#             'edge_features': np.random.rand(4, 5),\n",
    "#             'edge_list': np.array([(0, 1), (1, 2), (2, 3), (3, 4)])\n",
    "#         },\n",
    "#         'graph_3': {\n",
    "#             'node_features': np.random.rand(5, 10),\n",
    "#             'edge_features': np.random.rand(4, 5),\n",
    "#             'edge_list': np.array([(0, 1), (1, 2), (2, 3), (3, 4)])\n",
    "#         }\n",
    "#     },\n",
    "#     # Add more proteins as needed\n",
    "# }\n",
    "protein_data = {}"
   ]
  },
  {
   "cell_type": "code",
   "execution_count": 13,
   "metadata": {},
   "outputs": [],
   "source": [
    "#define a timer \n",
    "from time import time\n",
    "global t0\n",
    "t0 = time()\n",
    "def time_block():    \n",
    "    global t0 \n",
    "    print(f\"Time elapsed: {time()-t0:.2f}\")\n",
    "    t0 = time()"
   ]
  },
  {
   "cell_type": "code",
   "execution_count": 5,
   "metadata": {},
   "outputs": [
    {
     "name": "stderr",
     "output_type": "stream",
     "text": [
      "  0%|          | 0/9 [00:00<?, ?it/s]"
     ]
    },
    {
     "name": "stdout",
     "output_type": "stream",
     "text": [
      "Time for loading files: 0.01 seconds\n"
     ]
    },
    {
     "name": "stderr",
     "output_type": "stream",
     "text": [
      " 11%|█         | 1/9 [00:00<00:05,  1.43it/s]"
     ]
    },
    {
     "name": "stdout",
     "output_type": "stream",
     "text": [
      "Time for combining and filtering: 0.48 seconds\n",
      "Time for writing to PDB: 0.00 seconds\n",
      "Time for featurizing: 0.20 seconds\n",
      "Time for loading files: 0.06 seconds\n"
     ]
    },
    {
     "name": "stderr",
     "output_type": "stream",
     "text": [
      " 44%|████▍     | 4/9 [00:02<00:02,  1.74it/s]"
     ]
    },
    {
     "name": "stdout",
     "output_type": "stream",
     "text": [
      "Time for combining and filtering: 1.47 seconds\n",
      "Time for writing to PDB: 0.00 seconds\n",
      "Time for featurizing: 0.10 seconds\n",
      "Time for loading files: 0.03 seconds\n"
     ]
    },
    {
     "name": "stderr",
     "output_type": "stream",
     "text": [
      "100%|██████████| 9/9 [00:03<00:00,  2.92it/s]"
     ]
    },
    {
     "name": "stdout",
     "output_type": "stream",
     "text": [
      "Time for combining and filtering: 0.56 seconds\n",
      "Time for writing to PDB: 0.00 seconds\n",
      "Time for featurizing: 0.16 seconds\n"
     ]
    },
    {
     "name": "stderr",
     "output_type": "stream",
     "text": [
      "\n"
     ]
    }
   ],
   "source": [
    "from time import time\n",
    "import os\n",
    "from tqdm import tqdm\n",
    "from rdkit import Chem\n",
    "from contextlib import contextmanager\n",
    "\n",
    "@contextmanager\n",
    "def time_block(label):\n",
    "    start = time()\n",
    "    try:\n",
    "        yield\n",
    "    finally:\n",
    "        end = time()\n",
    "        print(f\"{label}: {end - start:.2f} seconds\")\n",
    "\n",
    "# Specify the path to the PDB data\n",
    "#pdb_data = '/Users/tsachmackey/dfs/affinity_net/PDBbind/v2020-other-PL'\n",
    "pdb_data = '../../test_data/pdb'\n",
    "\n",
    "# Initialize the protein data dictionary\n",
    "protein_data = {}\n",
    "\n",
    "for filename in tqdm(os.listdir(pdb_data)):\n",
    "    if os.path.isdir(os.path.join(pdb_data, filename)):\n",
    "        protein_name = filename\n",
    "\n",
    "        ligand_mol2_path = os.path.join(pdb_data, f'{protein_name}/{protein_name}_ligand.mol2')\n",
    "        protein_pdb_path = os.path.join(pdb_data, f'{protein_name}/{protein_name}_protein.pdb')\n",
    "\n",
    "        with time_block(\"Time for loading files\"):\n",
    "            ligand_mol = mol2_to_rdkit_mol(ligand_mol2_path, sanitize=False)\n",
    "            protein_mol = pdb_to_rdkit_mol(protein_pdb_path, sanitize=False)\n",
    "            \n",
    "        # Set by_residue to True to include entire residues\n",
    "        with time_block(\"Time for combining and filtering\"):\n",
    "            pocket_mol_res = combine_and_filter(ligand_mol, remove_waters(protein_mol), by_residue=True)\n",
    "\n",
    "        # Save the resulting complex_mol to a PDB file\n",
    "        output_path = os.path.join(pdb_data, f'{protein_name}/{protein_name}_pocket_res.pdb')\n",
    "        pdb_block = Chem.MolToPDBBlock(pocket_mol_res)\n",
    "\n",
    "        with time_block(\"Time for writing to PDB\"):\n",
    "            with open(output_path, 'w') as file:\n",
    "                file.write(pdb_block)\n",
    "\n",
    "        with time_block(\"Time for featurizing\"):\n",
    "            vdw_graph = rdkit_mol_featurizer(pocket_mol_res, \"vdw interactions\")\n",
    "            ionic_graph = rdkit_mol_featurizer(pocket_mol_res, \"ionic interactions\")\n",
    "            cov_graph = rdkit_mol_featurizer(pocket_mol_res, \"covalent bonds\")\n",
    "\n",
    "        protein_data = extend_protein_data_dict(protein_data, protein_name, vdw_graph, ionic_graph, cov_graph)\n",
    "\n",
    "# Save the example data\n",
    "save_protein_data_to_hdf5('protein_data.h5', protein_data)\n"
   ]
  },
  {
   "cell_type": "code",
   "execution_count": 6,
   "metadata": {},
   "outputs": [],
   "source": [
    "# Load the example data\n",
    "loaded_protein_data = load_protein_data_from_hdf5('protein_data.h5')"
   ]
  },
  {
   "cell_type": "code",
   "execution_count": 7,
   "metadata": {},
   "outputs": [
    {
     "data": {
      "text/plain": [
       "{'1a0q': {'cov': {'node_features': array([[-1.   ,  7.   , 14.007, ...,  1.   ,  0.   ,  0.   ],\n",
       "          [-1.   ,  1.   ,  1.008, ...,  0.   ,  0.   ,  0.   ],\n",
       "          [-1.   ,  6.   , 12.011, ...,  1.   ,  0.   ,  0.   ],\n",
       "          ...,\n",
       "          [ 1.   ,  1.   ,  1.008, ...,  0.   ,  0.   ,  0.   ],\n",
       "          [ 1.   ,  1.   ,  1.008, ...,  0.   ,  0.   ,  0.   ],\n",
       "          [ 1.   ,  1.   ,  1.008, ...,  0.   ,  0.   ,  0.   ]]),\n",
       "   'edge_features': array([[1., 0., 0., 0., 0.],\n",
       "          [1., 0., 0., 0., 0.],\n",
       "          [1., 0., 0., 0., 0.],\n",
       "          ...,\n",
       "          [1., 0., 0., 0., 0.],\n",
       "          [1., 0., 0., 0., 0.],\n",
       "          [1., 0., 0., 0., 0.]]),\n",
       "   'edge_list': array([[378, 375],\n",
       "          [375, 378],\n",
       "          [814, 811],\n",
       "          ...,\n",
       "          [994, 969],\n",
       "          [977, 995],\n",
       "          [995, 977]])},\n",
       "  'ionic': {'node_features': array([[-1.   ,  7.   , 14.007, ...,  1.   ,  0.   ,  0.   ],\n",
       "          [-1.   ,  1.   ,  1.008, ...,  0.   ,  0.   ,  0.   ],\n",
       "          [-1.   ,  6.   , 12.011, ...,  1.   ,  0.   ,  0.   ],\n",
       "          ...,\n",
       "          [ 1.   ,  1.   ,  1.008, ...,  0.   ,  0.   ,  0.   ],\n",
       "          [ 1.   ,  1.   ,  1.008, ...,  0.   ,  0.   ,  0.   ],\n",
       "          [ 1.   ,  1.   ,  1.008, ...,  0.   ,  0.   ,  0.   ]]),\n",
       "   'edge_features': array([[0.        , 0.        , 0.        , 0.        , 1.04047345],\n",
       "          [0.        , 0.        , 0.        , 0.        , 1.04047345],\n",
       "          [0.        , 0.        , 0.        , 0.        , 1.459639  ],\n",
       "          ...,\n",
       "          [0.        , 0.        , 0.        , 0.        , 2.26489017],\n",
       "          [0.        , 0.        , 0.        , 0.        , 2.97412777],\n",
       "          [0.        , 0.        , 0.        , 0.        , 2.97412777]]),\n",
       "   'edge_list': array([[  0,   1],\n",
       "          [  1,   0],\n",
       "          [  0,   2],\n",
       "          ...,\n",
       "          [995, 993],\n",
       "          [994, 995],\n",
       "          [995, 994]])},\n",
       "  'vdw': {'node_features': array([[-1.   ,  7.   , 14.007, ...,  1.   ,  0.   ,  0.   ],\n",
       "          [-1.   ,  1.   ,  1.008, ...,  0.   ,  0.   ,  0.   ],\n",
       "          [-1.   ,  6.   , 12.011, ...,  1.   ,  0.   ,  0.   ],\n",
       "          ...,\n",
       "          [ 1.   ,  1.   ,  1.008, ...,  0.   ,  0.   ,  0.   ],\n",
       "          [ 1.   ,  1.   ,  1.008, ...,  0.   ,  0.   ,  0.   ],\n",
       "          [ 1.   ,  1.   ,  1.008, ...,  0.   ,  0.   ,  0.   ]]),\n",
       "   'edge_features': array([[0., 0., 0., 0., 0.],\n",
       "          [0., 0., 0., 0., 0.],\n",
       "          [0., 0., 0., 0., 0.],\n",
       "          ...,\n",
       "          [0., 0., 0., 0., 0.],\n",
       "          [0., 0., 0., 0., 0.],\n",
       "          [0., 0., 0., 0., 0.]]),\n",
       "   'edge_list': array([[  0,   1],\n",
       "          [  0,   2],\n",
       "          [  0,   3],\n",
       "          ...,\n",
       "          [995, 977],\n",
       "          [995, 978],\n",
       "          [995, 993]])}},\n",
       " '1a0t': {'cov': {'node_features': array([[-1.   ,  7.   , 14.007, ...,  1.   ,  0.   ,  0.   ],\n",
       "          [-1.   ,  1.   ,  1.008, ...,  0.   ,  0.   ,  0.   ],\n",
       "          [-1.   ,  6.   , 12.011, ...,  2.   ,  0.   ,  0.   ],\n",
       "          ...,\n",
       "          [ 1.   ,  1.   ,  1.008, ...,  0.   ,  0.   ,  0.   ],\n",
       "          [ 1.   ,  1.   ,  1.008, ...,  0.   ,  0.   ,  0.   ],\n",
       "          [ 1.   ,  1.   ,  1.008, ...,  0.   ,  0.   ,  0.   ]]),\n",
       "   'edge_features': array([[1., 0., 0., 0., 0.],\n",
       "          [1., 0., 0., 0., 0.],\n",
       "          [1., 0., 0., 0., 0.],\n",
       "          ...,\n",
       "          [1., 0., 0., 0., 0.],\n",
       "          [1., 0., 0., 0., 0.],\n",
       "          [1., 0., 0., 0., 0.]]),\n",
       "   'edge_list': array([[  1,   0],\n",
       "          [  0,   1],\n",
       "          [  2,   0],\n",
       "          ...,\n",
       "          [692, 670],\n",
       "          [671, 693],\n",
       "          [693, 671]])},\n",
       "  'ionic': {'node_features': array([[-1.   ,  7.   , 14.007, ...,  1.   ,  0.   ,  0.   ],\n",
       "          [-1.   ,  1.   ,  1.008, ...,  0.   ,  0.   ,  0.   ],\n",
       "          [-1.   ,  6.   , 12.011, ...,  2.   ,  0.   ,  0.   ],\n",
       "          ...,\n",
       "          [ 1.   ,  1.   ,  1.008, ...,  0.   ,  0.   ,  0.   ],\n",
       "          [ 1.   ,  1.   ,  1.008, ...,  0.   ,  0.   ,  0.   ],\n",
       "          [ 1.   ,  1.   ,  1.008, ...,  0.   ,  0.   ,  0.   ]]),\n",
       "   'edge_features': array([[0.        , 0.        , 0.        , 0.        , 1.03949699],\n",
       "          [0.        , 0.        , 0.        , 0.        , 1.03949699],\n",
       "          [0.        , 0.        , 0.        , 0.        , 1.44481971],\n",
       "          ...,\n",
       "          [0.        , 0.        , 0.        , 0.        , 4.85864318],\n",
       "          [0.        , 0.        , 0.        , 0.        , 3.47470035],\n",
       "          [0.        , 0.        , 0.        , 0.        , 3.47470035]]),\n",
       "   'edge_list': array([[  0,   1],\n",
       "          [  1,   0],\n",
       "          [  0,   2],\n",
       "          ...,\n",
       "          [693, 691],\n",
       "          [692, 693],\n",
       "          [693, 692]])},\n",
       "  'vdw': {'node_features': array([[-1.   ,  7.   , 14.007, ...,  1.   ,  0.   ,  0.   ],\n",
       "          [-1.   ,  1.   ,  1.008, ...,  0.   ,  0.   ,  0.   ],\n",
       "          [-1.   ,  6.   , 12.011, ...,  2.   ,  0.   ,  0.   ],\n",
       "          ...,\n",
       "          [ 1.   ,  1.   ,  1.008, ...,  0.   ,  0.   ,  0.   ],\n",
       "          [ 1.   ,  1.   ,  1.008, ...,  0.   ,  0.   ,  0.   ],\n",
       "          [ 1.   ,  1.   ,  1.008, ...,  0.   ,  0.   ,  0.   ]]),\n",
       "   'edge_features': array([[0., 0., 0., 0., 0.],\n",
       "          [0., 0., 0., 0., 0.],\n",
       "          [0., 0., 0., 0., 0.],\n",
       "          ...,\n",
       "          [0., 0., 0., 0., 0.],\n",
       "          [0., 0., 0., 0., 0.],\n",
       "          [0., 0., 0., 0., 0.]]),\n",
       "   'edge_list': array([[  0,   1],\n",
       "          [  0,   2],\n",
       "          [  0,   3],\n",
       "          ...,\n",
       "          [693, 677],\n",
       "          [693, 686],\n",
       "          [693, 689]])}},\n",
       " '1a1b': {'cov': {'node_features': array([[-1.   ,  7.   , 14.007, ...,  1.   ,  0.   ,  0.   ],\n",
       "          [-1.   ,  1.   ,  1.008, ...,  0.   ,  0.   ,  0.   ],\n",
       "          [-1.   ,  6.   , 12.011, ...,  1.   ,  0.   ,  0.   ],\n",
       "          ...,\n",
       "          [ 1.   ,  6.   , 12.011, ...,  2.   ,  0.   ,  0.   ],\n",
       "          [ 1.   ,  6.   , 12.011, ...,  2.   ,  0.   ,  0.   ],\n",
       "          [ 1.   ,  6.   , 12.011, ...,  3.   ,  0.   ,  0.   ]]),\n",
       "   'edge_features': array([[1., 0., 0., 0., 0.],\n",
       "          [1., 0., 0., 0., 0.],\n",
       "          [1., 0., 0., 0., 0.],\n",
       "          ...,\n",
       "          [1., 0., 0., 0., 0.],\n",
       "          [1., 0., 0., 0., 0.],\n",
       "          [1., 0., 0., 0., 0.]]),\n",
       "   'edge_list': array([[   1,    0],\n",
       "          [   0,    1],\n",
       "          [   2,    0],\n",
       "          ...,\n",
       "          [1064, 1079],\n",
       "          [1081, 1089],\n",
       "          [1089, 1081]])},\n",
       "  'ionic': {'node_features': array([[-1.   ,  7.   , 14.007, ...,  1.   ,  0.   ,  0.   ],\n",
       "          [-1.   ,  1.   ,  1.008, ...,  0.   ,  0.   ,  0.   ],\n",
       "          [-1.   ,  6.   , 12.011, ...,  1.   ,  0.   ,  0.   ],\n",
       "          ...,\n",
       "          [ 1.   ,  6.   , 12.011, ...,  2.   ,  0.   ,  0.   ],\n",
       "          [ 1.   ,  6.   , 12.011, ...,  2.   ,  0.   ,  0.   ],\n",
       "          [ 1.   ,  6.   , 12.011, ...,  3.   ,  0.   ,  0.   ]]),\n",
       "   'edge_features': array([[0.        , 0.        , 0.        , 0.        , 1.04031966],\n",
       "          [0.        , 0.        , 0.        , 0.        , 1.04031966],\n",
       "          [0.        , 0.        , 0.        , 0.        , 1.45269198],\n",
       "          ...,\n",
       "          [0.        , 0.        , 0.        , 0.        , 2.45361611],\n",
       "          [0.        , 0.        , 0.        , 0.        , 1.51208002],\n",
       "          [0.        , 0.        , 0.        , 0.        , 1.51208002]]),\n",
       "   'edge_list': array([[   0,    1],\n",
       "          [   1,    0],\n",
       "          [   0,    2],\n",
       "          ...,\n",
       "          [1099, 1097],\n",
       "          [1098, 1099],\n",
       "          [1099, 1098]])},\n",
       "  'vdw': {'node_features': array([[-1.   ,  7.   , 14.007, ...,  1.   ,  0.   ,  0.   ],\n",
       "          [-1.   ,  1.   ,  1.008, ...,  0.   ,  0.   ,  0.   ],\n",
       "          [-1.   ,  6.   , 12.011, ...,  1.   ,  0.   ,  0.   ],\n",
       "          ...,\n",
       "          [ 1.   ,  6.   , 12.011, ...,  2.   ,  0.   ,  0.   ],\n",
       "          [ 1.   ,  6.   , 12.011, ...,  2.   ,  0.   ,  0.   ],\n",
       "          [ 1.   ,  6.   , 12.011, ...,  3.   ,  0.   ,  0.   ]]),\n",
       "   'edge_features': array([[0., 0., 0., 0., 0.],\n",
       "          [0., 0., 0., 0., 0.],\n",
       "          [0., 0., 0., 0., 0.],\n",
       "          ...,\n",
       "          [0., 0., 0., 0., 0.],\n",
       "          [0., 0., 0., 0., 0.],\n",
       "          [0., 0., 0., 0., 0.]]),\n",
       "   'edge_list': array([[   0,    1],\n",
       "          [   0,    2],\n",
       "          [   0,    3],\n",
       "          ...,\n",
       "          [1099, 1088],\n",
       "          [1099, 1097],\n",
       "          [1099, 1098]])}}}"
      ]
     },
     "execution_count": 7,
     "metadata": {},
     "output_type": "execute_result"
    }
   ],
   "source": [
    "loaded_protein_data"
   ]
  },
  {
   "cell_type": "code",
   "execution_count": 8,
   "metadata": {},
   "outputs": [],
   "source": [
    "os.remove('protein_data.h5')"
   ]
  },
  {
   "cell_type": "code",
   "execution_count": 14,
   "metadata": {},
   "outputs": [
    {
     "name": "stderr",
     "output_type": "stream",
     "text": [
      "  3%|▎         | 148/5321 [00:02<01:13, 69.99it/s]cp: /Users/tsachmackey/dfs/affinity_net/PDBbind/refined-set/3l4y/protein_data.h5: No such file or directory\n",
      "  3%|▎         | 164/5321 [00:02<01:12, 71.31it/s]"
     ]
    },
    {
     "name": "stdout",
     "output_type": "stream",
     "text": [
      "Error loading protein data for 3l4y\n"
     ]
    },
    {
     "name": "stderr",
     "output_type": "stream",
     "text": [
      "  4%|▎         | 188/5321 [00:02<01:13, 70.27it/s]cp: /Users/tsachmackey/dfs/affinity_net/PDBbind/refined-set/4kcx/4kcx_pocket_res.pdb: No such file or directory\n",
      "cp: /Users/tsachmackey/dfs/affinity_net/PDBbind/refined-set/4kcx/protein_data.h5: No such file or directory\n",
      "  4%|▍         | 203/5321 [00:02<01:13, 69.29it/s]"
     ]
    },
    {
     "name": "stdout",
     "output_type": "stream",
     "text": [
      "Error loading protein data for 4kcx\n"
     ]
    },
    {
     "name": "stderr",
     "output_type": "stream",
     "text": [
      "  6%|▌         | 309/5321 [00:04<01:10, 71.09it/s]cp: /Users/tsachmackey/dfs/affinity_net/PDBbind/refined-set/4zbf/protein_data.h5: No such file or directory\n",
      "  6%|▌         | 325/5321 [00:04<01:12, 69.22it/s]"
     ]
    },
    {
     "name": "stdout",
     "output_type": "stream",
     "text": [
      "Error loading protein data for 4zbf\n"
     ]
    },
    {
     "name": "stderr",
     "output_type": "stream",
     "text": [
      "  7%|▋         | 353/5321 [00:05<01:16, 65.15it/s]cp: /Users/tsachmackey/dfs/affinity_net/PDBbind/refined-set/3l4x/protein_data.h5: No such file or directory\n",
      "  7%|▋         | 369/5321 [00:05<01:11, 69.58it/s]"
     ]
    },
    {
     "name": "stdout",
     "output_type": "stream",
     "text": [
      "Error loading protein data for 3l4x\n"
     ]
    },
    {
     "name": "stderr",
     "output_type": "stream",
     "text": [
      "  8%|▊         | 415/5321 [00:06<01:14, 65.47it/s]cp: /Users/tsachmackey/dfs/affinity_net/PDBbind/refined-set/3l4v/protein_data.h5: No such file or directory\n",
      "  8%|▊         | 430/5321 [00:06<01:13, 66.57it/s]"
     ]
    },
    {
     "name": "stdout",
     "output_type": "stream",
     "text": [
      "Error loading protein data for 3l4v\n"
     ]
    },
    {
     "name": "stderr",
     "output_type": "stream",
     "text": [
      "  9%|▊         | 462/5321 [00:06<01:08, 70.45it/s]cp: /Users/tsachmackey/dfs/affinity_net/PDBbind/refined-set/3dx2/protein_data.h5: No such file or directory\n",
      "  9%|▉         | 478/5321 [00:07<01:08, 71.07it/s]"
     ]
    },
    {
     "name": "stdout",
     "output_type": "stream",
     "text": [
      "Error loading protein data for 3dx2\n"
     ]
    },
    {
     "name": "stderr",
     "output_type": "stream",
     "text": [
      " 10%|▉         | 508/5321 [00:07<01:12, 66.39it/s]cp: /Users/tsachmackey/dfs/affinity_net/PDBbind/refined-set/4bup/protein_data.h5: No such file or directory\n",
      " 10%|▉         | 524/5321 [00:07<01:09, 69.42it/s]"
     ]
    },
    {
     "name": "stdout",
     "output_type": "stream",
     "text": [
      "Error loading protein data for 4bup\n"
     ]
    },
    {
     "name": "stderr",
     "output_type": "stream",
     "text": [
      " 10%|█         | 556/5321 [00:08<01:05, 73.11it/s]cp: /Users/tsachmackey/dfs/affinity_net/PDBbind/refined-set/mol2files_nocharges/mol2files_nocharges_ligand.mol2: No such file or directory\n",
      "cp: /Users/tsachmackey/dfs/affinity_net/PDBbind/refined-set/mol2files_nocharges/mol2files_nocharges_protein.pdb: No such file or directory\n",
      "cp: /Users/tsachmackey/dfs/affinity_net/PDBbind/refined-set/mol2files_nocharges/mol2files_nocharges_pocket_res.pdb: No such file or directory\n",
      "cp: /Users/tsachmackey/dfs/affinity_net/PDBbind/refined-set/mol2files_nocharges/protein_data.h5: No such file or directory\n",
      " 11%|█         | 572/5321 [00:08<01:03, 74.71it/s]"
     ]
    },
    {
     "name": "stdout",
     "output_type": "stream",
     "text": [
      "Error loading protein data for mol2files_nocharges\n"
     ]
    },
    {
     "name": "stderr",
     "output_type": "stream",
     "text": [
      " 21%|██        | 1119/5321 [00:16<01:02, 67.46it/s]cp: /Users/tsachmackey/dfs/affinity_net/PDBbind/refined-set/2h21/protein_data.h5: No such file or directory\n",
      " 21%|██        | 1127/5321 [00:16<01:01, 68.25it/s]"
     ]
    },
    {
     "name": "stdout",
     "output_type": "stream",
     "text": [
      "Error loading protein data for 2h21\n"
     ]
    },
    {
     "name": "stderr",
     "output_type": "stream",
     "text": [
      " 22%|██▏       | 1178/5321 [00:17<01:03, 65.49it/s]cp: /Users/tsachmackey/dfs/affinity_net/PDBbind/refined-set/3r24/protein_data.h5: No such file or directory\n",
      " 22%|██▏       | 1194/5321 [00:17<01:13, 56.34it/s]"
     ]
    },
    {
     "name": "stdout",
     "output_type": "stream",
     "text": [
      "Error loading protein data for 3r24\n"
     ]
    },
    {
     "name": "stderr",
     "output_type": "stream",
     "text": [
      " 25%|██▌       | 1351/5321 [00:20<01:39, 40.01it/s]cp: /Users/tsachmackey/dfs/affinity_net/PDBbind/refined-set/6std/protein_data.h5: No such file or directory\n",
      " 26%|██▌       | 1361/5321 [00:20<01:43, 38.41it/s]"
     ]
    },
    {
     "name": "stdout",
     "output_type": "stream",
     "text": [
      "Error loading protein data for 6std\n"
     ]
    },
    {
     "name": "stderr",
     "output_type": "stream",
     "text": [
      " 27%|██▋       | 1440/5321 [00:22<01:05, 59.02it/s]cp: /Users/tsachmackey/dfs/affinity_net/PDBbind/refined-set/6ift/protein_data.h5: No such file or directory\n",
      " 27%|██▋       | 1453/5321 [00:22<01:11, 54.35it/s]"
     ]
    },
    {
     "name": "stdout",
     "output_type": "stream",
     "text": [
      "Error loading protein data for 6ift\n"
     ]
    },
    {
     "name": "stderr",
     "output_type": "stream",
     "text": [
      " 28%|██▊       | 1470/5321 [00:22<01:26, 44.38it/s]cp: /Users/tsachmackey/dfs/affinity_net/PDBbind/refined-set/1nw5/protein_data.h5: No such file or directory\n",
      " 28%|██▊       | 1482/5321 [00:23<01:17, 49.24it/s]"
     ]
    },
    {
     "name": "stdout",
     "output_type": "stream",
     "text": [
      "Error loading protein data for 1nw5\n"
     ]
    },
    {
     "name": "stderr",
     "output_type": "stream",
     "text": [
      " 46%|████▌     | 2424/5321 [00:38<00:48, 59.25it/s]cp: /Users/tsachmackey/dfs/affinity_net/PDBbind/refined-set/1ksn/1ksn_pocket_res.pdb: No such file or directory\n",
      "cp: /Users/tsachmackey/dfs/affinity_net/PDBbind/refined-set/1ksn/protein_data.h5: No such file or directory\n",
      " 46%|████▌     | 2431/5321 [00:38<00:47, 60.38it/s]cp: /Users/tsachmackey/dfs/affinity_net/PDBbind/refined-set/3lpp/protein_data.h5: No such file or directory\n",
      " 46%|████▌     | 2438/5321 [00:39<00:46, 61.50it/s]"
     ]
    },
    {
     "name": "stdout",
     "output_type": "stream",
     "text": [
      "Error loading protein data for 1ksn\n",
      "Error loading protein data for 3lpp\n"
     ]
    },
    {
     "name": "stderr",
     "output_type": "stream",
     "text": [
      " 49%|████▉     | 2594/5321 [00:41<00:43, 62.21it/s]cp: /Users/tsachmackey/dfs/affinity_net/PDBbind/refined-set/3gcp/protein_data.h5: No such file or directory\n",
      " 49%|████▉     | 2608/5321 [00:41<00:42, 63.84it/s]cp: /Users/tsachmackey/dfs/affinity_net/PDBbind/refined-set/readme/readme_ligand.mol2: No such file or directory\n",
      "cp: /Users/tsachmackey/dfs/affinity_net/PDBbind/refined-set/readme/readme_protein.pdb: No such file or directory\n",
      "cp: /Users/tsachmackey/dfs/affinity_net/PDBbind/refined-set/readme/readme_pocket_res.pdb: No such file or directory\n",
      "cp: /Users/tsachmackey/dfs/affinity_net/PDBbind/refined-set/readme/protein_data.h5: No such file or directory\n"
     ]
    },
    {
     "name": "stdout",
     "output_type": "stream",
     "text": [
      "Error loading protein data for 3gcp\n",
      "Error loading protein data for readme\n"
     ]
    },
    {
     "name": "stderr",
     "output_type": "stream",
     "text": [
      " 49%|████▉     | 2622/5321 [00:42<00:43, 62.62it/s]cp: /Users/tsachmackey/dfs/affinity_net/PDBbind/refined-set/4qy3/protein_data.h5: No such file or directory\n",
      " 49%|████▉     | 2630/5321 [00:42<00:41, 64.90it/s]"
     ]
    },
    {
     "name": "stdout",
     "output_type": "stream",
     "text": [
      "Error loading protein data for 4qy3\n"
     ]
    },
    {
     "name": "stderr",
     "output_type": "stream",
     "text": [
      " 55%|█████▌    | 2945/5321 [00:48<01:24, 27.99it/s]cp: /Users/tsachmackey/dfs/affinity_net/PDBbind/refined-set/1sl3/1sl3_pocket_res.pdb: No such file or directory\n",
      "cp: /Users/tsachmackey/dfs/affinity_net/PDBbind/refined-set/1sl3/protein_data.h5: No such file or directory\n",
      " 55%|█████▌    | 2950/5321 [00:48<01:16, 30.81it/s]cp: /Users/tsachmackey/dfs/affinity_net/PDBbind/refined-set/3l4z/protein_data.h5: No such file or directory\n"
     ]
    },
    {
     "name": "stdout",
     "output_type": "stream",
     "text": [
      "Error loading protein data for 1sl3\n",
      "Error loading protein data for 3l4z\n"
     ]
    },
    {
     "name": "stderr",
     "output_type": "stream",
     "text": [
      " 62%|██████▏   | 3304/5321 [01:32<00:48, 41.61it/s]  cp: /Users/tsachmackey/dfs/affinity_net/PDBbind/refined-set/3l4u/protein_data.h5: No such file or directory\n",
      " 62%|██████▏   | 3314/5321 [01:32<00:49, 40.51it/s]"
     ]
    },
    {
     "name": "stdout",
     "output_type": "stream",
     "text": [
      "Error loading protein data for 3l4u\n"
     ]
    },
    {
     "name": "stderr",
     "output_type": "stream",
     "text": [
      " 66%|██████▋   | 3536/5321 [01:38<00:48, 36.83it/s]cp: /Users/tsachmackey/dfs/affinity_net/PDBbind/refined-set/5h5f/protein_data.h5: No such file or directory\n",
      " 67%|██████▋   | 3542/5321 [01:38<00:42, 41.85it/s]"
     ]
    },
    {
     "name": "stdout",
     "output_type": "stream",
     "text": [
      "Error loading protein data for 5h5f\n"
     ]
    },
    {
     "name": "stderr",
     "output_type": "stream",
     "text": [
      " 73%|███████▎  | 3868/5321 [01:47<00:30, 47.43it/s]cp: /Users/tsachmackey/dfs/affinity_net/PDBbind/refined-set/index/index_ligand.mol2: No such file or directory\n",
      "cp: /Users/tsachmackey/dfs/affinity_net/PDBbind/refined-set/index/index_protein.pdb: No such file or directory\n",
      "cp: /Users/tsachmackey/dfs/affinity_net/PDBbind/refined-set/index/index_pocket_res.pdb: No such file or directory\n",
      "cp: /Users/tsachmackey/dfs/affinity_net/PDBbind/refined-set/index/protein_data.h5: No such file or directory\n",
      " 73%|███████▎  | 3880/5321 [01:47<00:28, 49.75it/s]"
     ]
    },
    {
     "name": "stdout",
     "output_type": "stream",
     "text": [
      "Error loading protein data for index\n"
     ]
    },
    {
     "name": "stderr",
     "output_type": "stream",
     "text": [
      " 85%|████████▍ | 4500/5321 [02:10<00:18, 43.27it/s]cp: /Users/tsachmackey/dfs/affinity_net/PDBbind/refined-set/4ymg/protein_data.h5: No such file or directory\n",
      " 85%|████████▍ | 4510/5321 [02:10<00:18, 43.97it/s]"
     ]
    },
    {
     "name": "stdout",
     "output_type": "stream",
     "text": [
      "Error loading protein data for 4ymg\n"
     ]
    },
    {
     "name": "stderr",
     "output_type": "stream",
     "text": [
      " 86%|████████▌ | 4567/5321 [02:12<00:22, 33.89it/s]cp: /Users/tsachmackey/dfs/affinity_net/PDBbind/refined-set/5bw4/protein_data.h5: No such file or directory\n",
      " 86%|████████▌ | 4571/5321 [02:12<00:27, 27.54it/s]"
     ]
    },
    {
     "name": "stdout",
     "output_type": "stream",
     "text": [
      "Error loading protein data for 5bw4\n"
     ]
    },
    {
     "name": "stderr",
     "output_type": "stream",
     "text": [
      " 87%|████████▋ | 4617/5321 [03:13<04:09,  2.83it/s]cp: /Users/tsachmackey/dfs/affinity_net/PDBbind/refined-set/1d7i/protein_data.h5: No such file or directory\n",
      " 87%|████████▋ | 4620/5321 [03:13<03:08,  3.72it/s]"
     ]
    },
    {
     "name": "stdout",
     "output_type": "stream",
     "text": [
      "Error loading protein data for 1d7i\n"
     ]
    },
    {
     "name": "stderr",
     "output_type": "stream",
     "text": [
      " 88%|████████▊ | 4678/5321 [03:16<00:18, 34.62it/s]cp: /Users/tsachmackey/dfs/affinity_net/PDBbind/refined-set/5twj/protein_data.h5: No such file or directory\n",
      " 88%|████████▊ | 4688/5321 [03:16<00:15, 40.07it/s]"
     ]
    },
    {
     "name": "stdout",
     "output_type": "stream",
     "text": [
      "Error loading protein data for 5twj\n"
     ]
    },
    {
     "name": "stderr",
     "output_type": "stream",
     "text": [
      " 89%|████████▉ | 4745/5321 [03:19<00:21, 27.24it/s]cp: /Users/tsachmackey/dfs/affinity_net/PDBbind/refined-set/3acl/protein_data.h5: No such file or directory\n",
      " 89%|████████▉ | 4758/5321 [03:19<00:15, 37.12it/s]"
     ]
    },
    {
     "name": "stdout",
     "output_type": "stream",
     "text": [
      "Error loading protein data for 3acl\n"
     ]
    },
    {
     "name": "stderr",
     "output_type": "stream",
     "text": [
      " 91%|█████████ | 4826/5321 [03:21<00:14, 35.02it/s]cp: /Users/tsachmackey/dfs/affinity_net/PDBbind/refined-set/1mue/1mue_pocket_res.pdb: No such file or directory\n",
      "cp: /Users/tsachmackey/dfs/affinity_net/PDBbind/refined-set/1mue/protein_data.h5: No such file or directory\n",
      " 91%|█████████ | 4834/5321 [03:21<00:10, 44.70it/s]"
     ]
    },
    {
     "name": "stdout",
     "output_type": "stream",
     "text": [
      "Error loading protein data for 1mue\n"
     ]
    },
    {
     "name": "stderr",
     "output_type": "stream",
     "text": [
      " 91%|█████████ | 4852/5321 [03:21<00:09, 47.15it/s]cp: /Users/tsachmackey/dfs/affinity_net/PDBbind/refined-set/2ewa/protein_data.h5: No such file or directory\n",
      " 91%|█████████▏| 4859/5321 [03:22<00:08, 51.46it/s]"
     ]
    },
    {
     "name": "stdout",
     "output_type": "stream",
     "text": [
      "Error loading protein data for 2ewa\n"
     ]
    },
    {
     "name": "stderr",
     "output_type": "stream",
     "text": [
      " 95%|█████████▍| 5033/5321 [03:24<00:04, 66.90it/s]cp: /Users/tsachmackey/dfs/affinity_net/PDBbind/refined-set/3pgl/protein_data.h5: No such file or directory\n",
      " 95%|█████████▍| 5040/5321 [03:24<00:04, 63.62it/s]"
     ]
    },
    {
     "name": "stdout",
     "output_type": "stream",
     "text": [
      "Error loading protein data for 3pgl\n"
     ]
    },
    {
     "name": "stderr",
     "output_type": "stream",
     "text": [
      " 95%|█████████▍| 5053/5321 [03:25<00:05, 53.50it/s]cp: /Users/tsachmackey/dfs/affinity_net/PDBbind/refined-set/5kva/protein_data.h5: No such file or directory\n",
      " 95%|█████████▌| 5067/5321 [03:25<00:04, 60.54it/s]"
     ]
    },
    {
     "name": "stdout",
     "output_type": "stream",
     "text": [
      "Error loading protein data for 5kva\n"
     ]
    },
    {
     "name": "stderr",
     "output_type": "stream",
     "text": [
      " 98%|█████████▊| 5219/5321 [03:27<00:01, 70.10it/s]cp: /Users/tsachmackey/dfs/affinity_net/PDBbind/refined-set/6bm5/protein_data.h5: No such file or directory\n",
      " 98%|█████████▊| 5227/5321 [03:27<00:01, 70.75it/s]"
     ]
    },
    {
     "name": "stdout",
     "output_type": "stream",
     "text": [
      "Error loading protein data for 6bm5\n"
     ]
    },
    {
     "name": "stderr",
     "output_type": "stream",
     "text": [
      "100%|██████████| 5321/5321 [03:29<00:00, 25.39it/s]\n"
     ]
    }
   ],
   "source": [
    "pdb_data = '/Users/tsachmackey/dfs/affinity_net/PDBbind/refined-set'\n",
    "new_pdb_data_dir = '/Users/tsachmackey/dfs/affinity_net/PDBbind/refined-set_featurized'\n",
    "\n",
    "# Initialize the protein data dictionary\n",
    "protein_data = {}\n",
    "\n",
    "for filename in tqdm(os.listdir(pdb_data)):\n",
    "    if os.path.isdir(os.path.join(pdb_data, filename)):\n",
    "        #make a new directory in the new_pdb_data_dir\n",
    "        protein_name = filename\n",
    "        new_protein_dir = os.path.join(new_pdb_data_dir, protein_name)\n",
    "        os.makedirs(new_protein_dir, exist_ok=True)\n",
    "\n",
    "        #copy {protein_name}_ligand.mol2, {protein_name}_protein.pdb, {protein_name}_pocket_res.pdb, and protein_data.h5\n",
    "        #to the new_protein_dir\n",
    "        os.system(f\"cp {pdb_data}/{protein_name}/{protein_name}_ligand.mol2 {new_protein_dir}\")\n",
    "        os.system(f\"cp {pdb_data}/{protein_name}/{protein_name}_protein.pdb {new_protein_dir}\")\n",
    "        os.system(f\"cp {pdb_data}/{protein_name}/{protein_name}_pocket_res.pdb {new_protein_dir}\")\n",
    "        os.system(f\"cp {pdb_data}/{protein_name}/protein_data.h5 {new_protein_dir}\")\n",
    "        \n",
    "        try: \n",
    "            #load in the protein data\n",
    "            protein_data_i = load_protein_data_from_hdf5(f\"{new_protein_dir}/protein_data.h5\")\n",
    "        except:\n",
    "            print(f\"Error loading protein data for {protein_name}\")\n",
    "            continue\n",
    "\n",
    "        #extend the protein_data dictionary\n",
    "        protein_data.update(protein_data_i)\n",
    "\n",
    "#save the data to new_pdb_data_dir/protein_data.h5\n",
    "save_protein_data_to_hdf5(f\"{new_pdb_data_dir}/protein_data.h5\", protein_data)"
   ]
  },
  {
   "cell_type": "code",
   "execution_count": null,
   "metadata": {},
   "outputs": [],
   "source": []
  }
 ],
 "metadata": {
  "kernelspec": {
   "display_name": "affinity_env2",
   "language": "python",
   "name": "python3"
  },
  "language_info": {
   "codemirror_mode": {
    "name": "ipython",
    "version": 3
   },
   "file_extension": ".py",
   "mimetype": "text/x-python",
   "name": "python",
   "nbconvert_exporter": "python",
   "pygments_lexer": "ipython3",
   "version": "3.9.16"
  }
 },
 "nbformat": 4,
 "nbformat_minor": 2
}
