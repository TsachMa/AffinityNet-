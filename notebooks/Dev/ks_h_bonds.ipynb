{
 "cells": [
  {
   "cell_type": "code",
   "execution_count": 1,
   "metadata": {},
   "outputs": [],
   "source": [
    "from rdkit import Chem\n",
    "from rdkit.Chem import AllChem\n",
    "from rdkit.Geometry import Point3D\n",
    "import math\n",
    "\n",
    "def calculate_distance(atom1, atom2):\n",
    "    \"\"\"Calculate the distance between two RDKit atoms.\"\"\"\n",
    "    pos1 = atom1.GetOwningMol().GetConformer().GetAtomPosition(atom1.GetIdx())\n",
    "    pos2 = atom2.GetOwningMol().GetConformer().GetAtomPosition(atom2.GetIdx())\n",
    "    return pos1.Distance(Point3D(pos2.x, pos2.y, pos2.z))\n",
    "\n",
    "def calculate_angle(atom1, atom2, atom3):\n",
    "    \"\"\"Calculate the angle between three RDKit atoms.\"\"\"\n",
    "    pos1 = atom1.GetOwningMol().GetConformer().GetAtomPosition(atom1.GetIdx())\n",
    "    pos2 = atom2.GetOwningMol().GetConformer().GetAtomPosition(atom2.GetIdx())\n",
    "    pos3 = atom3.GetOwningMol().GetConformer().GetAtomPosition(atom3.GetIdx())\n",
    "    \n",
    "    vec1 = pos1 - pos2\n",
    "    vec2 = pos3 - pos2\n",
    "    \n",
    "    angle = math.acos(vec1.DotProduct(vec2) / (vec1.Length() * vec2.Length()))\n",
    "    return math.degrees(angle)\n",
    "\n",
    "def find_hbonding_heteroatoms(mol):\n",
    "    \"\"\"\n",
    "    Identify heteroatoms in the molecule that are engaging in hydrogen bonding.\n",
    "    \n",
    "    Parameters:\n",
    "    mol (Chem.Mol): The RDKit molecule.\n",
    "    \n",
    "    Returns:\n",
    "    List of tuples containing donor and acceptor atoms that are engaged in hydrogen bonding.\n",
    "    \"\"\"\n",
    "    hbond_pairs = []\n",
    "    # Identify potential hydrogen bond donors and acceptors\n",
    "    donors = [atom for atom in mol.GetAtoms() if atom.GetAtomicNum() in [7, 8] and atom.GetTotalNumHs() > 0]\n",
    "    acceptors = [atom for atom in mol.GetAtoms() if atom.GetAtomicNum() in [7, 8] and atom.GetTotalNumHs() == 0]\n",
    "\n",
    "    for donor in donors:\n",
    "        hydrogen = [nbr for nbr in donor.GetNeighbors() if nbr.GetAtomicNum() == 1][0]\n",
    "        for acceptor in acceptors:\n",
    "            if acceptor.GetIdx() != donor.GetIdx():\n",
    "                distance = calculate_distance(hydrogen, acceptor)\n",
    "                if distance <= 3.5:  # Common distance threshold for hydrogen bonding\n",
    "                    angle = calculate_angle(donor, hydrogen, acceptor)\n",
    "                    if 120 <= angle <= 180:  # Common angle range for hydrogen bonding\n",
    "                        hbond_pairs.append((donor, acceptor))\n",
    "    \n",
    "    return hbond_pairs"
   ]
  },
  {
   "cell_type": "code",
   "execution_count": null,
   "metadata": {},
   "outputs": [],
   "source": []
  }
 ],
 "metadata": {
  "kernelspec": {
   "display_name": "affinity_env2",
   "language": "python",
   "name": "python3"
  },
  "language_info": {
   "codemirror_mode": {
    "name": "ipython",
    "version": 3
   },
   "file_extension": ".py",
   "mimetype": "text/x-python",
   "name": "python",
   "nbconvert_exporter": "python",
   "pygments_lexer": "ipython3",
   "version": "3.9.16"
  }
 },
 "nbformat": 4,
 "nbformat_minor": 2
}
