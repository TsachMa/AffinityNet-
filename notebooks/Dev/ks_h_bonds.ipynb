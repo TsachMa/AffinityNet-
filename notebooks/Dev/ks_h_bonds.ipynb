{
 "cells": [
  {
   "cell_type": "code",
   "execution_count": 10,
   "metadata": {},
   "outputs": [
    {
     "name": "stderr",
     "output_type": "stream",
     "text": [
      "/var/folders/5j/_bnmcm0j4115r6hln80zmksc0000gn/T/ipykernel_43073/2563154982.py:56: RuntimeWarning: divide by zero encountered in scalar divide\n",
      "  E = 0.42 * 0.20 * 33.2 * (1/r_ON + 1/r_CH - 1/r_OH - 1/r_CN)\n"
     ]
    }
   ],
   "source": [
    "from rdkit import Chem\n",
    "from rdkit.Chem import AllChem\n",
    "import numpy as np\n",
    "\n",
    "# Function to get atom positions\n",
    "def get_atom_positions(molecule):\n",
    "    conf = molecule.GetConformer()\n",
    "    atom_positions = {}\n",
    "    for atom in molecule.GetAtoms():\n",
    "        pos = conf.GetAtomPosition(atom.GetIdx())\n",
    "        atom_positions[atom.GetIdx()] = np.array([pos.x, pos.y, pos.z])\n",
    "    return atom_positions\n",
    "\n",
    "# Function to find specific atoms by their atomic number and bonding partners\n",
    "def find_atoms(molecule, atomic_num, bonded_atomic_num):\n",
    "    atoms = []\n",
    "    for atom in molecule.GetAtoms():\n",
    "        if atom.GetAtomicNum() == atomic_num:\n",
    "            for neighbor in atom.GetNeighbors():\n",
    "                if neighbor.GetAtomicNum() == bonded_atomic_num:\n",
    "                    atoms.append(atom)\n",
    "    return atoms\n",
    "\n",
    "# Load the molecule (for example purposes, we'll assume a simple peptide)\n",
    "# Replace with actual molecule loading code\n",
    "molecule = Chem.MolFromSmiles('CC(=O)NCCC(=O)NCC')\n",
    "molecule = Chem.AddHs(molecule)\n",
    "AllChem.EmbedMolecule(molecule)\n",
    "AllChem.UFFOptimizeMolecule(molecule)\n",
    "\n",
    "# Get all atom positions\n",
    "atom_positions = get_atom_positions(molecule)\n",
    "\n",
    "# Identify CO and NH backbone groups\n",
    "co_groups = find_atoms(molecule, 8, 6)  # Oxygen bonded to Carbon\n",
    "nh_groups = find_atoms(molecule, 7, 6)  # Nitrogen bonded to Carbon\n",
    "\n",
    "# Calculate distances between all relevant pairs\n",
    "def calculate_distance(atom1, atom2):\n",
    "    return np.linalg.norm(atom_positions[atom1.GetIdx()] - atom_positions[atom2.GetIdx()])\n",
    "\n",
    "# Calculate the electrostatic energy matrix\n",
    "electrostatic_energy_matrix = np.zeros((len(co_groups), len(nh_groups)))\n",
    "\n",
    "for i, co in enumerate(co_groups):\n",
    "    carbon = co.GetNeighbors()[0]\n",
    "    for j, nh in enumerate(nh_groups):\n",
    "        nitrogen = nh.GetNeighbors()[0]\n",
    "\n",
    "        # Distances\n",
    "        r_ON = calculate_distance(co, nh)\n",
    "        r_CH = min(calculate_distance(carbon, neighbor) for neighbor in nh.GetNeighbors() if neighbor.GetAtomicNum() == 1)  # Hydrogen on Carbon\n",
    "        r_OH = min(calculate_distance(co, neighbor) for neighbor in nh.GetNeighbors() if neighbor.GetAtomicNum() == 1)  # Hydrogen on Oxygen\n",
    "        r_CN = calculate_distance(carbon, nitrogen)\n",
    "\n",
    "        E = 0.42 * 0.20 * 33.2 * (1/r_ON + 1/r_CH - 1/r_OH - 1/r_CN)\n",
    "        electrostatic_energy_matrix[i, j] = E"
   ]
  },
  {
   "cell_type": "code",
   "execution_count": 12,
   "metadata": {},
   "outputs": [
    {
     "data": {
      "text/plain": [
       "(2, 4)"
      ]
     },
     "execution_count": 12,
     "metadata": {},
     "output_type": "execute_result"
    }
   ],
   "source": [
    "electrostatic_energy_matrix.shape"
   ]
  },
  {
   "cell_type": "code",
   "execution_count": null,
   "metadata": {},
   "outputs": [],
   "source": []
  }
 ],
 "metadata": {
  "kernelspec": {
   "display_name": "affinity_env2",
   "language": "python",
   "name": "python3"
  },
  "language_info": {
   "codemirror_mode": {
    "name": "ipython",
    "version": 3
   },
   "file_extension": ".py",
   "mimetype": "text/x-python",
   "name": "python",
   "nbconvert_exporter": "python",
   "pygments_lexer": "ipython3",
   "version": "3.9.16"
  }
 },
 "nbformat": 4,
 "nbformat_minor": 2
}
