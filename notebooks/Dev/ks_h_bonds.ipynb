{
 "cells": [
  {
   "cell_type": "code",
   "execution_count": 1,
   "metadata": {},
   "outputs": [
    {
     "data": {
      "text/plain": [
       "0"
      ]
     },
     "execution_count": 1,
     "metadata": {},
     "output_type": "execute_result"
    }
   ],
   "source": [
    "from rdkit import Chem\n",
    "from rdkit.Chem import AllChem\n",
    "import numpy as np\n",
    "# Load the molecule (for example purposes, we'll assume a simple peptide)\n",
    "# Replace with actual molecule loading code\n",
    "molecule = Chem.MolFromSmiles('CC(=O)NCCC(=O)NCC')\n",
    "molecule = Chem.AddHs(molecule)\n",
    "AllChem.EmbedMolecule(molecule)\n",
    "AllChem.MMFFOptimizeMolecule(molecule)"
   ]
  },
  {
   "cell_type": "code",
   "execution_count": null,
   "metadata": {},
   "outputs": [],
   "source": [
    "atom = molecule.GetAtomWithIdx(0)\n",
    "sum([bond.GetBondTypeAsDouble() for bond in atom.GetBonds()])"
   ]
  },
  {
   "cell_type": "code",
   "execution_count": 10,
   "metadata": {},
   "outputs": [
    {
     "name": "stderr",
     "output_type": "stream",
     "text": [
      "/var/folders/5j/_bnmcm0j4115r6hln80zmksc0000gn/T/ipykernel_43073/2563154982.py:56: RuntimeWarning: divide by zero encountered in scalar divide\n",
      "  E = 0.42 * 0.20 * 33.2 * (1/r_ON + 1/r_CH - 1/r_OH - 1/r_CN)\n"
     ]
    }
   ],
   "source": [
    "# Function to get atom positions\n",
    "def get_atom_positions(molecule):\n",
    "    conf = molecule.GetConformer()\n",
    "    atom_positions = {}\n",
    "    for atom in molecule.GetAtoms():\n",
    "        pos = conf.GetAtomPosition(atom.GetIdx())\n",
    "        atom_positions[atom.GetIdx()] = np.array([pos.x, pos.y, pos.z])\n",
    "    return atom_positions\n",
    "\n",
    "# Function to find specific atoms by their atomic number and bonding partners\n",
    "def find_atoms(molecule, atomic_num, bonded_atomic_num):\n",
    "    atoms = []\n",
    "    for atom in molecule.GetAtoms():\n",
    "        if atom.GetAtomicNum() == atomic_num:\n",
    "            for neighbor in atom.GetNeighbors():\n",
    "                if neighbor.GetAtomicNum() == bonded_atomic_num:\n",
    "                    atoms.append(atom)\n",
    "    return atoms\n",
    "\n",
    "# Function to find specific atoms by their atomic number and bonding partners\n",
    "def find_donors_and_acceptors(molecule):\n",
    "\n",
    "    donors = []\n",
    "    acceptors = []\n",
    "\n",
    "    for atom in molecule.GetAtoms():\n",
    "\n",
    "        if atom.GetAtomicNum() == 7:    \n",
    "            if 1 in [atom_2.GetAtomicNum() for atom_2 in atom.GetNeighbors()]:\n",
    "                    donors.append(atom)\n",
    "\n",
    "            if sum([bond.GetBondTypeAsDouble() for bond in atom.GetBonds()]) < 4:\n",
    "                acceptors.append(atom)\n",
    "\n",
    "        elif atom.GetAtomicNum() == 8:\n",
    "            if 1 in [atom_2.GetAtomicNum() for atom_2 in atom.GetNeighbors()]:\n",
    "                donors.append(atom)\n",
    "            \n",
    "            if sum([bond.GetBondTypeAsDouble() for bond in atom.GetBonds()]) < 3:\n",
    "                acceptors.append(atom)\n",
    "\n",
    "    return donors, acceptors\n",
    "\n",
    "\n",
    "# Calculate distances between all relevant pairs\n",
    "def calculate_distance(atom1, atom2):\n",
    "    return np.linalg.norm(atom_positions[atom1.GetIdx()] - atom_positions[atom2.GetIdx()])\n",
    "\n",
    "# Get all atom positions\n",
    "atom_positions = get_atom_positions(molecule)\n",
    "\n",
    "#get the donors and acceptors\n",
    "donors, acceptors = find_donors_and_acceptors(molecule)\n",
    "\n",
    "# Calculate the electrostatic energy matrix\n",
    "electrostatic_energy_matrix = np.zeros((len(donors), len(acceptors)))\n",
    "\n",
    "for i, donor in enumerate(donors):    \n",
    "    for j, acceptor in enumerate(acceptors):\n",
    "        donor_acceptor_r = calculate_distance(donor, acceptor)\n",
    "        CONVERSION_FACTOR_KJ = 1388.93  # kJ mol^-1 Å^-1\n",
    "        energy = CONVERSION_FACTOR_KJ *  donor.GetProp('_TriposAtomCharges') * acceptor.GetProp('_TriposAtomCharges') / donor_acceptor_r\n",
    "\n",
    "        if energy > 5: \n",
    "            electrostatic_energy_matrix[i, j] = energy "
   ]
  }
 ],
 "metadata": {
  "kernelspec": {
   "display_name": "affinity_env2",
   "language": "python",
   "name": "python3"
  },
  "language_info": {
   "codemirror_mode": {
    "name": "ipython",
    "version": 3
   },
   "file_extension": ".py",
   "mimetype": "text/x-python",
   "name": "python",
   "nbconvert_exporter": "python",
   "pygments_lexer": "ipython3",
   "version": "3.9.16"
  }
 },
 "nbformat": 4,
 "nbformat_minor": 2
}
