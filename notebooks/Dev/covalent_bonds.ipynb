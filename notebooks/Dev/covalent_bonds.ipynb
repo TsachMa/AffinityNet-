{
 "cells": [
  {
   "cell_type": "code",
   "execution_count": 6,
   "metadata": {},
   "outputs": [],
   "source": [
    "from rdkit.Chem.rdmolfiles import MolFromPDBFile\n",
    "from rdkit.Chem.rdchem import Mol\n",
    "import numpy as np\n",
    "import rdkit.Chem as Chem\n",
    "from rdkit.Chem import AddHs, AssignStereochemistry, HybridizationType, ChiralType, BondStereo, MolFromMol2File\n",
    "from rdkit.Chem.AllChem import ComputeGasteigerCharges\n",
    "import os\n",
    "import sys\n",
    "sys.path.append(\"../../\")\n",
    "from src.data.pocket_utils import get_atom_coordinates, find_pocket_atoms_RDKit"
   ]
  },
  {
   "cell_type": "code",
   "execution_count": 7,
   "metadata": {},
   "outputs": [],
   "source": [
    "def covalent_bonds(mol, atom_1, atom_2):\n",
    "    \"\"\"\n",
    "    \n",
    "    Determine if there is a covalent bond between two specified atoms in a molecule and get bond features.\n",
    "    \n",
    "    Parameters:\n",
    "    mol (Chem.Mol): The RDKit molecule.\n",
    "    atom_1 (int): The index of the first atom.\n",
    "    atom_2 (int): The index of the second atom.\n",
    "    \n",
    "    Returns:\n",
    "    tuple: A tuple containing bond order, aromaticity, conjugation, ring, and stereochemistry.\n",
    "           If there is no bond, returns (0, 0, 0, 0, 0).\n",
    "    \n",
    "    \"\"\"\n",
    "    bond = mol.GetBondBetweenAtoms(atom_1, atom_2)\n",
    "\n",
    "    if bond: \n",
    "        # Calculate edge features\n",
    "        bond_order = bond.GetBondTypeAsDouble()\n",
    "        aromaticity = int(bond.GetIsAromatic())\n",
    "        conjugation = int(bond.GetIsConjugated())\n",
    "        ring = int(bond.IsInRing())\n",
    "        stereochemistry_tag = bond.GetStereo()\n",
    "        \n",
    "        if stereochemistry_tag == BondStereo.STEREOZ:\n",
    "            stereochemistry = 1\n",
    "        elif stereochemistry_tag == BondStereo.STEREOE:\n",
    "            stereochemistry = -1\n",
    "        else:\n",
    "            stereochemistry = 0\n",
    "    else:\n",
    "        bond_order, aromaticity, conjugation, ring, stereochemistry = 0, 0, 0, 0, 0\n",
    "\n",
    "    return (bond_order, aromaticity, conjugation, ring, stereochemistry)"
   ]
  },
  {
   "cell_type": "code",
   "execution_count": 8,
   "metadata": {},
   "outputs": [
    {
     "name": "stdout",
     "output_type": "stream",
     "text": [
      "(1.0, 0, 0, 0, 0)\n",
      "(0, 0, 0, 0, 0)\n"
     ]
    }
   ],
   "source": [
    "mol = Chem.MolFromSmiles('CCO')\n",
    "print(covalent_bonds(mol, 0, 1))  # Example output: (1.0, 0, 0, 0, 0)\n",
    "print(covalent_bonds(mol, 0, 2))  # Example output: (0, 0, 0, 0, 0)"
   ]
  },
  {
   "cell_type": "code",
   "execution_count": 11,
   "metadata": {},
   "outputs": [],
   "source": [
    "# Define test cases\n",
    "test_cases = [\n",
    "    (\"CCO\", 0, 1),  # Simple molecule, single bond\n",
    "    (\"CCO\", 0, 2),  # Simple molecule, no direct bond\n",
    "    (\"c1ccccc1\", 0, 1),  # Benzene, aromatic bond\n",
    "    (\"C=C\", 0, 1),  # Ethene, double bond\n",
    "    (\"C#C\", 0, 1),  # Acetylene, triple bond\n",
    "    (\"C1CCCCC1\", 0, 1),  # Cyclohexane, single bond in ring\n",
    "    (\"C1CC1\", 0, 2),  # Cyclopropane, single bond across ring\n",
    "]\n",
    "\n",
    "\n",
    "# Initialize RDKit molecules\n",
    "molecules = [(Chem.MolFromSmiles(smiles), a1, a2) for smiles, a1, a2 in test_cases]\n",
    "\n"
   ]
  },
  {
   "cell_type": "code",
   "execution_count": 12,
   "metadata": {},
   "outputs": [
    {
     "name": "stdout",
     "output_type": "stream",
     "text": [
      "SMILES: CCO, Atoms: (0, 1) -> Bond Features: (1.0, 0, 0, 0, 0)\n",
      "SMILES: CCO, Atoms: (0, 2) -> Bond Features: (0, 0, 0, 0, 0)\n",
      "SMILES: c1ccccc1, Atoms: (0, 1) -> Bond Features: (1.5, 1, 1, 1, 0)\n",
      "SMILES: C=C, Atoms: (0, 1) -> Bond Features: (2.0, 0, 0, 0, 0)\n",
      "SMILES: C#C, Atoms: (0, 1) -> Bond Features: (3.0, 0, 0, 0, 0)\n",
      "SMILES: C1CCCCC1, Atoms: (0, 1) -> Bond Features: (1.0, 0, 0, 1, 0)\n",
      "SMILES: C1CC1, Atoms: (0, 2) -> Bond Features: (1.0, 0, 0, 1, 0)\n"
     ]
    }
   ],
   "source": [
    "\n",
    "# Test the function with the test cases\n",
    "for mol, atom_1, atom_2 in molecules:\n",
    "    result = covalent_bonds(mol, atom_1, atom_2)\n",
    "    print(f\"SMILES: {Chem.MolToSmiles(mol)}, Atoms: ({atom_1}, {atom_2}) -> Bond Features: {result}\")"
   ]
  },
  {
   "cell_type": "markdown",
   "metadata": {},
   "source": [
    "- **SMILES:** CCO, **Atoms:** (0, 1) -> **Bond Features:** (1.0, 0, 0, 0, 0)\n",
    "- **SMILES:** CCO, **Atoms:** (0, 2) -> **Bond Features:** (0, 0, 0, 0, 0)\n",
    "- **SMILES:** c1ccccc1, **Atoms:** (0, 1) -> **Bond Features:** (1.5, 1, 1, 1, 0)\n",
    "- **SMILES:** C=C, **Atoms:** (0, 1) -> **Bond Features:** (2.0, 0, 1, 0, 0)\n",
    "- **SMILES:** C#C, **Atoms:** (0, 1) -> **Bond Features:** (3.0, 0, 0, 0, 0)\n",
    "- **SMILES:** C1CCCCC1, **Atoms:** (0, 1) -> **Bond Features:** (1.0, 0, 0, 1, 0)\n",
    "- **SMILES:** C1CC1, **Atoms:** (0, 2) -> **Bond Features:** (1.0, 0, 0, 1, 0)\n"
   ]
  }
 ],
 "metadata": {
  "kernelspec": {
   "display_name": "affinity_env2",
   "language": "python",
   "name": "python3"
  },
  "language_info": {
   "codemirror_mode": {
    "name": "ipython",
    "version": 3
   },
   "file_extension": ".py",
   "mimetype": "text/x-python",
   "name": "python",
   "nbconvert_exporter": "python",
   "pygments_lexer": "ipython3",
   "version": "3.9.16"
  }
 },
 "nbformat": 4,
 "nbformat_minor": 2
}
