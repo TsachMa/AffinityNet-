{
 "cells": [
  {
   "cell_type": "code",
   "execution_count": 1,
   "metadata": {},
   "outputs": [],
   "source": [
    "from rdkit import Chem\n",
    "from rdkit.Chem import AllChem\n",
    "\n",
    "def calculate_partial_charges(mol):\n",
    "    \"\"\"\n",
    "    Calculate partial charges using MMFF94 force field for a given SMILES string.\n",
    "\n",
    "    Parameters:\n",
    "    smiles (str): The SMILES string of the molecule.\n",
    "\n",
    "    Returns:\n",
    "    list of tuples: A list of tuples where each tuple contains the atom index and its partial charge.\n",
    "    \"\"\"\n",
    "\n",
    "    # Add hydrogen atoms\n",
    "    mol = Chem.AddHs(mol)\n",
    "\n",
    "    # Compute 3D coordinates\n",
    "    AllChem.EmbedMolecule(mol, AllChem.ETKDG())\n",
    "\n",
    "    # Compute MMFF94 charges\n",
    "    mmff_props = AllChem.MMFFGetMoleculeProperties(mol, mmffVariant='MMFF94')\n",
    "    partial_charges = [mmff_props.GetMMFFPartialCharge(i) for i in range(mol.GetNumAtoms())]\n",
    "\n",
    "    # Create a list of tuples (atom index, partial charge)\n",
    "    atom_charges = [(i, charge) for i, charge in enumerate(partial_charges)]\n",
    "\n",
    "    return atom_charges"
   ]
  },
  {
   "cell_type": "code",
   "execution_count": 2,
   "metadata": {},
   "outputs": [],
   "source": [
    "from rdkit.Chem.rdmolfiles import MolFromPDBFile\n",
    "from rdkit.Chem.rdchem import Mol\n",
    "from rdkit.Chem import AllChem\n",
    "\n",
    "import numpy as np\n",
    "import rdkit.Chem as Chem\n",
    "from rdkit.Chem import AddHs, AssignStereochemistry, HybridizationType, ChiralType, BondStereo, MolFromMol2File\n",
    "from rdkit.Chem.AllChem import ComputeGasteigerCharges\n",
    "import os\n",
    "import sys\n",
    "sys.path.append(\"../../\")\n",
    "from src.data.pocket_utils import get_atom_coordinates, find_pocket_atoms_RDKit\n",
    "from src.utils.constants import ES_THRESHOLD, METAL_OX_STATES, POCKET_THRESHOLD\n",
    "from tqdm import tqdm \n",
    "\n",
    "from src.data.utils import pdb_to_rdkit_mol, mol2_to_rdkit_mol, get_vdw_radius, add_charges_to_molecule, get_node_features, get_edge_features, extract_charges_from_mol2"
   ]
  },
  {
   "cell_type": "code",
   "execution_count": 3,
   "metadata": {},
   "outputs": [],
   "source": [
    "complex_mol = pdb_to_rdkit_mol(\"../../test_data/pdb/1a0q/1a0q_complex.pdb\") #/Users/tsachmackey/Documents/Summer 2024/Research /Batista project/AffinityNet/test_data/pdb/1a0q\n",
    "ligand_mol = mol2_to_rdkit_mol(\"../../test_data/pdb/1a0q/1a0q_ligand.mol2\", sanitize = False) #/Users/tsachmackey/Documents/Summer 2024/Research /Batista project/AffinityNet/test_data/pdb/1a0q\n",
    "protein_pdb = pdb_to_rdkit_mol(\"../../test_data/pdb/1a0q/1a0q_protein.pdb\") #/Users/tsachmackey/Documents/Summer 2024/Research /Batista project/AffinityNet/test_data/pdb/1a0q"
   ]
  },
  {
   "cell_type": "code",
   "execution_count": 4,
   "metadata": {},
   "outputs": [
    {
     "ename": "",
     "evalue": "",
     "output_type": "error",
     "traceback": [
      "\u001b[1;31mThe Kernel crashed while executing code in the current cell or a previous cell. \n",
      "\u001b[1;31mPlease review the code in the cell(s) to identify a possible cause of the failure. \n",
      "\u001b[1;31mClick <a href='https://aka.ms/vscodeJupyterKernelCrash'>here</a> for more info. \n",
      "\u001b[1;31mView Jupyter <a href='command:jupyter.viewOutput'>log</a> for further details."
     ]
    }
   ],
   "source": [
    "charges = calculate_partial_charges(complex_mol)\n",
    "for atom_idx, charge in charges:\n",
    "    print(f\"Atom {atom_idx}: {charge:.4f}\")\n"
   ]
  },
  {
   "cell_type": "code",
   "execution_count": null,
   "metadata": {},
   "outputs": [],
   "source": []
  }
 ],
 "metadata": {
  "kernelspec": {
   "display_name": "affinity_env2",
   "language": "python",
   "name": "python3"
  },
  "language_info": {
   "codemirror_mode": {
    "name": "ipython",
    "version": 3
   },
   "file_extension": ".py",
   "mimetype": "text/x-python",
   "name": "python",
   "nbconvert_exporter": "python",
   "pygments_lexer": "ipython3",
   "version": "3.9.16"
  }
 },
 "nbformat": 4,
 "nbformat_minor": 2
}
