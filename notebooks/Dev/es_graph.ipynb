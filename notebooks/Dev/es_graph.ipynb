{
 "cells": [
  {
   "cell_type": "code",
   "execution_count": 1,
   "metadata": {},
   "outputs": [],
   "source": [
    "from rdkit.Chem.rdmolfiles import MolFromPDBFile\n",
    "from rdkit.Chem.rdchem import Mol\n",
    "from rdkit.Chem import AllChem\n",
    "\n",
    "import numpy as np\n",
    "import rdkit.Chem as Chem\n",
    "from rdkit.Chem import AddHs, AssignStereochemistry, HybridizationType, ChiralType, BondStereo, MolFromMol2File\n",
    "from rdkit.Chem.AllChem import ComputeGasteigerCharges\n",
    "import os\n",
    "import sys\n",
    "sys.path.append(\"../../\")\n",
    "from src.data.pocket_utils import get_atom_coordinates, find_pocket_atoms_RDKit\n",
    "from src.data.utils import pdb_to_rdkit_mol, mol2_to_rdkit_mol, get_vdw_radius, add_charges_to_molecule, get_node_features, get_edge_features, extract_charges_from_mol2\n",
    "from src.utils.constants import ES_THRESHOLD\n"
   ]
  },
  {
   "cell_type": "code",
   "execution_count": 2,
   "metadata": {},
   "outputs": [],
   "source": [
    "def ionic_interaction(mol: Chem.Mol, atom_1: int, atom_2: int):\n",
    "    \"\"\"\n",
    "    Determine if there is an electrostatic interaction between atom 1 and atom 2 based on whether the coulombic interaction\n",
    "    between the two atoms is less than or equal to some threshold imported from src/utils/constants.py.\n",
    "\n",
    "    Parameters:\n",
    "    mol (Chem.Mol): The RDKit molecule. NOTE: We assume that the molecule has _TriposAtomCharges charges assigned to the atoms.\n",
    "    atom_1 (int): The index of the first atom.\n",
    "    atom_2 (int): The index of the second atom.\n",
    "    \n",
    "    Returns:\n",
    "    tuple: (0, 0, 0, 0, 0) if there is an electrostatic interaction, None otherwise \n",
    "\n",
    "    Conversion Factor Calculation:\n",
    "    The Coulombic interaction energy between two point charges q1 and q2 separated by a distance r in vacuum is given by:\n",
    "\n",
    "        E = k * q1 * q2 / r\n",
    "\n",
    "    Where:\n",
    "    - E is the energy in Joules (J).\n",
    "    - k is Coulomb's constant, 8.987 x 10^9 N m^2 C^-2.\n",
    "    - q1 and q2 are the charges in Coulombs (C).\n",
    "    - r is the distance in meters (m).\n",
    "\n",
    "    To convert this energy into kJ/mol, the following conversions are applied:\n",
    "    - 1 e (elementary charge) = 1.602 x 10^-19 C\n",
    "    - Avogadro's number (N_A) = 6.022 x 10^23 mol^-1\n",
    "    - 1 Angstrom (Å) = 10^-10 meters (m)\n",
    "\n",
    "    Therefore, the conversion factor from (charge_1 * charge_2) / distance to kJ/mol is:\n",
    "\n",
    "        Conversion factor = (k * N_A * (1.602 x 10^-19)^2) * 10^10\n",
    "\n",
    "    Plugging in the values:\n",
    "\n",
    "        Conversion factor = (8.987 x 10^9 * 6.022 x 10^23 * (1.602 x 10^-19)^2) * 10^10\n",
    "                          ≈ 1388.93 kJ mol^-1 Å^-1\n",
    "    \"\"\"\n",
    "    # Constants\n",
    "    CONVERSION_FACTOR_KJ = 1388.93  # kJ mol^-1 Å^-1\n",
    "\n",
    "    # Get atomic charges using Gasteiger charges or another suitable method\n",
    "    charge_1 = float(mol.GetAtomWithIdx(atom_1).GetProp('_TriposAtomCharges'))\n",
    "    charge_2 = float(mol.GetAtomWithIdx(atom_2).GetProp('_TriposAtomCharges'))\n",
    "    \n",
    "    # Get the distance between the two atoms\n",
    "    conf = mol.GetConformer()\n",
    "    pos_1 = conf.GetAtomPosition(atom_1)\n",
    "    pos_2 = conf.GetAtomPosition(atom_2)\n",
    "    distance = pos_1.Distance(pos_2)\n",
    "\n",
    "    coulombic_interaction_kj = (charge_1 * charge_2 / distance) * CONVERSION_FACTOR_KJ\n",
    "\n",
    "    # Check if the Coulombic interaction is less than or equal to the threshold\n",
    "    if abs(coulombic_interaction_kj) >= ES_THRESHOLD:\n",
    "        return (0, 0, 0, 0, 0, coulombic_interaction_kj)\n",
    "    else:\n",
    "        return None"
   ]
  },
  {
   "cell_type": "code",
   "execution_count": 3,
   "metadata": {},
   "outputs": [],
   "source": [
    "def calculate_gasteiger_charges(mol):\n",
    "    AllChem.ComputeGasteigerCharges(mol)\n",
    "    for atom in mol.GetAtoms():\n",
    "        atom.SetProp('_TriposAtomCharges', str(atom.GetDoubleProp('_GasteigerCharge')))\n",
    "    return mol\n"
   ]
  },
  {
   "cell_type": "code",
   "execution_count": 4,
   "metadata": {},
   "outputs": [
    {
     "name": "stdout",
     "output_type": "stream",
     "text": [
      "SMILES: C=CCCCCCCCCC, Atoms: (0, 10) -> Result: None\n",
      "SMILES: C=C, Atoms: (0, 1) -> Result: None\n",
      "SMILES: CC(=O)O, Atoms: (2, 3) -> Result: (0, 0, 0, 0, 0, 74.26637744171447)\n"
     ]
    },
    {
     "name": "stderr",
     "output_type": "stream",
     "text": [
      "[21:40:57] Molecule does not have explicit Hs. Consider calling AddHs()\n",
      "[21:40:58] Molecule does not have explicit Hs. Consider calling AddHs()\n",
      "[21:40:58] Molecule does not have explicit Hs. Consider calling AddHs()\n"
     ]
    }
   ],
   "source": [
    "# Define test cases\n",
    "test_cases = [(\"CCCCCCCCCC=C\", 0, 10), # expected output: None\n",
    "              (\"C=C\", 0, 1), # expected output:  None\n",
    "              (\"CC(=O)O\", 2, 3) # expected output: (0, 0, 0, 0, 0)\n",
    "              ]\n",
    "\n",
    "# Initialize RDKit molecules and conformers\n",
    "molecules = []\n",
    "for smiles, a1, a2 in test_cases:\n",
    "    mol = Chem.MolFromSmiles(smiles)\n",
    "    AllChem.EmbedMolecule(mol)\n",
    "    mol = calculate_gasteiger_charges(mol)\n",
    "    molecules.append((mol, a1, a2))\n",
    "\n",
    "# Run test cases\n",
    "for mol, atom_1, atom_2 in molecules:\n",
    "    # Replace this with the actual function call\n",
    "    result = ionic_interaction(mol, atom_1, atom_2)\n",
    "    print(f\"SMILES: {Chem.MolToSmiles(mol)}, Atoms: ({atom_1}, {atom_2}) -> Result: {result}\")\n"
   ]
  },
  {
   "cell_type": "code",
   "execution_count": 13,
   "metadata": {},
   "outputs": [],
   "source": [
    "complex_mol = mol2_to_rdkit_mol(\"../../test_data/pdb/1a0q/1a0q_complex_charged.mol2\", sanitize = False) #/Users/tsachmackey/Documents/Summer 2024/Research /Batista project/AffinityNet/test_data/pdb/1a0q\n",
    "ligand_mol = mol2_to_rdkit_mol(\"../../test_data/pdb/1a0q/1a0q_ligand.mol2\", sanitize = False) #/Users/tsachmackey/Documents/Summer 2024/Research /Batista project/AffinityNet/test_data/pdb/1a0q\n",
    "num_atoms_in_protein = len(complex_mol.GetAtoms()) - len(ligand_mol.GetAtoms())\n",
    "charges = extract_charges_from_mol2(\"../../test_data/pdb/1a0q/1a0q_complex_charged.mol2\")\n",
    "\n",
    "mol = complex_mol\n",
    "AssignStereochemistry(mol, force=True, cleanIt=True)\n",
    "protein_or_ligand_ids = [-1 if atom.GetIdx() < num_atoms_in_protein else 1 for atom in mol.GetAtoms()]"
   ]
  },
  {
   "cell_type": "code",
   "execution_count": 6,
   "metadata": {},
   "outputs": [
    {
     "name": "stderr",
     "output_type": "stream",
     "text": [
      "6349it [01:31, 69.40it/s] \n"
     ]
    }
   ],
   "source": [
    "add_charges_to_molecule(mol, charges)\n",
    "#pocket_atom_indices = find_pocket_atoms_RDKit(mol, protein_or_ligand_ids, num_atoms_in_protein) # just use all of the atoms for now \n",
    "pocket_atom_indices = [atom.GetIdx() for atom in mol.GetAtoms()]\n",
    "edge_features, edge_indices = get_edge_features(mol, pocket_atom_indices, pairwise_function=ionic_interaction)"
   ]
  },
  {
   "cell_type": "code",
   "execution_count": 10,
   "metadata": {},
   "outputs": [
    {
     "name": "stdout",
     "output_type": "stream",
     "text": [
      "Sorted Edge Indices: [[1241 1243]\n",
      " [1243 1241]\n",
      " [2807 2805]\n",
      " [2805 2807]\n",
      " [2806 2805]\n",
      " [2805 2806]\n",
      " [4606 4608]\n",
      " [4608 4606]\n",
      " [1241 1242]\n",
      " [1242 1241]\n",
      " [2301 2302]\n",
      " [2302 2301]\n",
      " [1059 1060]\n",
      " [1060 1059]\n",
      " [2301 2303]\n",
      " [2303 2301]\n",
      " [4359 4357]\n",
      " [4357 4359]\n",
      " [1597 1596]\n",
      " [1596 1597]\n",
      " [1598 1596]\n",
      " [1596 1598]\n",
      " [2580 2581]\n",
      " [2581 2580]\n",
      " [4607 4606]\n",
      " [4606 4607]\n",
      " [1683 1685]\n",
      " [1685 1683]\n",
      " [1061 1059]\n",
      " [1059 1061]\n",
      " [3326 3328]\n",
      " [3328 3326]\n",
      " [2968 2967]\n",
      " [2967 2968]\n",
      " [4094 4095]\n",
      " [4095 4094]\n",
      " [4094 4096]\n",
      " [4096 4094]\n",
      " [3941 3939]\n",
      " [3939 3941]\n",
      " [2969 2967]\n",
      " [2967 2969]\n",
      " [4788 4786]\n",
      " [4786 4788]\n",
      " [2536 2535]\n",
      " [2535 2536]\n",
      " [3939 3940]\n",
      " [3940 3939]\n",
      " [3682 3684]\n",
      " [3684 3682]\n",
      " [2506 2508]\n",
      " [2508 2506]\n",
      " [4786 4787]\n",
      " [4787 4786]\n",
      " [ 381  382]\n",
      " [ 382  381]\n",
      " [6227 6228]\n",
      " [6228 6227]\n",
      " [2507 2506]\n",
      " [2506 2507]\n",
      " [3350 3349]\n",
      " [3349 3350]\n",
      " [2843 2841]\n",
      " [2841 2843]\n",
      " [1683 1684]\n",
      " [1684 1683]\n",
      " [5384 5385]\n",
      " [5385 5384]\n",
      " [4358 4357]\n",
      " [4357 4358]\n",
      " [1864 1862]\n",
      " [1862 1864]\n",
      " [1863 1862]\n",
      " [1862 1863]\n",
      " [5384 5386]\n",
      " [5386 5384]\n",
      " [ 383  381]\n",
      " [ 381  383]\n",
      " [5739 5740]\n",
      " [5740 5739]\n",
      " [2153 2154]\n",
      " [2154 2153]\n",
      " [3683 3682]\n",
      " [3682 3683]\n",
      " [3351 3349]\n",
      " [3349 3351]\n",
      " [5739 5741]\n",
      " [5741 5739]\n",
      " [2153 2155]\n",
      " [2155 2153]\n",
      " [6227 6229]\n",
      " [6229 6227]\n",
      " [2582 2580]\n",
      " [2580 2582]\n",
      " [1229 1231]\n",
      " [1231 1229]\n",
      " [3327 3326]\n",
      " [3326 3327]\n",
      " [6005 6006]\n",
      " [6006 6005]]\n"
     ]
    }
   ],
   "source": [
    "# Extract the last column from edge_features\n",
    "last_column = edge_features[:, -1]\n",
    "\n",
    "# Sort edge_indices based on the last column\n",
    "sorted_indices = np.argsort(last_column)\n",
    "sorted_edge_indices = edge_indices[sorted_indices]\n",
    "sorted_edge_features = edge_features[sorted_indices]\n",
    "\n",
    "print(\"Sorted Edge Indices:\", sorted_edge_indices[:100])"
   ]
  },
  {
   "cell_type": "code",
   "execution_count": 9,
   "metadata": {},
   "outputs": [
    {
     "name": "stdout",
     "output_type": "stream",
     "text": [
      "Sorted Edge Features: [[   0.            0.            0.            0.            0.\n",
      "  -133.37202442]\n",
      " [   0.            0.            0.            0.            0.\n",
      "  -133.37202442]\n",
      " [   0.            0.            0.            0.            0.\n",
      "  -127.02707769]\n",
      " ...\n",
      " [   0.            0.            0.            0.            0.\n",
      "    56.4821499 ]\n",
      " [   0.            0.            0.            0.            0.\n",
      "    57.54894827]\n",
      " [   0.            0.            0.            0.            0.\n",
      "    57.54894827]]\n"
     ]
    }
   ],
   "source": [
    "print(\"Sorted Edge Features:\", sorted_edge_features)"
   ]
  },
  {
   "cell_type": "code",
   "execution_count": null,
   "metadata": {},
   "outputs": [],
   "source": []
  }
 ],
 "metadata": {
  "kernelspec": {
   "display_name": "affinity_env2",
   "language": "python",
   "name": "python3"
  },
  "language_info": {
   "codemirror_mode": {
    "name": "ipython",
    "version": 3
   },
   "file_extension": ".py",
   "mimetype": "text/x-python",
   "name": "python",
   "nbconvert_exporter": "python",
   "pygments_lexer": "ipython3",
   "version": "3.9.16"
  }
 },
 "nbformat": 4,
 "nbformat_minor": 2
}
