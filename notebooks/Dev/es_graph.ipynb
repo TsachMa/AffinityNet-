{
 "cells": [
  {
   "cell_type": "code",
   "execution_count": 1,
   "metadata": {},
   "outputs": [],
   "source": [
    "from rdkit.Chem.rdmolfiles import MolFromPDBFile\n",
    "from rdkit.Chem.rdchem import Mol\n",
    "from rdkit.Chem import AllChem\n",
    "\n",
    "import numpy as np\n",
    "import rdkit.Chem as Chem\n",
    "from rdkit.Chem import AddHs, AssignStereochemistry, HybridizationType, ChiralType, BondStereo, MolFromMol2File\n",
    "from rdkit.Chem.AllChem import ComputeGasteigerCharges\n",
    "import os\n",
    "import sys\n",
    "sys.path.append(\"../../\")\n",
    "from src.data.pocket_utils import get_atom_coordinates, find_pocket_atoms_RDKit\n",
    "from src.data.utils import pdb_to_rdkit_mol, mol2_to_rdkit_mol, get_vdw_radius, add_charges_to_molecule, get_node_features, get_edge_features, extract_charges_from_mol2\n",
    "from src.utils.constants import ES_THRESHOLD\n"
   ]
  },
  {
   "cell_type": "code",
   "execution_count": 2,
   "metadata": {},
   "outputs": [],
   "source": [
    "def ionic_interaction(mol: Chem.Mol, atom_1: int, atom_2: int):\n",
    "    \"\"\"\n",
    "    Determine if there is an electrostatic interaction between atom 1 and atom 2 based on whether the coulombic interaction\n",
    "    between the two atoms is less than or equal to some threshold imported from src/utils/constants.py.\n",
    "\n",
    "    Parameters:\n",
    "    mol (Chem.Mol): The RDKit molecule. NOTE: We assume that the molecule has _TriposAtomCharges charges assigned to the atoms.\n",
    "    atom_1 (int): The index of the first atom.\n",
    "    atom_2 (int): The index of the second atom.\n",
    "    \n",
    "    Returns:\n",
    "    tuple: (0, 0, 0, 0, 0) if there is an electrostatic interaction, None otherwise \n",
    "\n",
    "    Conversion Factor Calculation:\n",
    "    The Coulombic interaction energy between two point charges q1 and q2 separated by a distance r in vacuum is given by:\n",
    "\n",
    "        E = k * q1 * q2 / r\n",
    "\n",
    "    Where:\n",
    "    - E is the energy in Joules (J).\n",
    "    - k is Coulomb's constant, 8.987 x 10^9 N m^2 C^-2.\n",
    "    - q1 and q2 are the charges in Coulombs (C).\n",
    "    - r is the distance in meters (m).\n",
    "\n",
    "    To convert this energy into kJ/mol, the following conversions are applied:\n",
    "    - 1 e (elementary charge) = 1.602 x 10^-19 C\n",
    "    - Avogadro's number (N_A) = 6.022 x 10^23 mol^-1\n",
    "    - 1 Angstrom (Å) = 10^-10 meters (m)\n",
    "\n",
    "    Therefore, the conversion factor from (charge_1 * charge_2) / distance to kJ/mol is:\n",
    "\n",
    "        Conversion factor = (k * N_A * (1.602 x 10^-19)^2) * 10^10\n",
    "\n",
    "    Plugging in the values:\n",
    "\n",
    "        Conversion factor = (8.987 x 10^9 * 6.022 x 10^23 * (1.602 x 10^-19)^2) * 10^10\n",
    "                          ≈ 1388.93 kJ mol^-1 Å^-1\n",
    "    \"\"\"\n",
    "    # Constants\n",
    "    CONVERSION_FACTOR_KJ = 1388.93  # kJ mol^-1 Å^-1\n",
    "\n",
    "    # Get atomic charges using Gasteiger charges or another suitable method\n",
    "    charge_1 = float(mol.GetAtomWithIdx(atom_1).GetProp('_TriposAtomCharges'))\n",
    "    charge_2 = float(mol.GetAtomWithIdx(atom_2).GetProp('_TriposAtomCharges'))\n",
    "    \n",
    "    # Get the distance between the two atoms\n",
    "    conf = mol.GetConformer()\n",
    "    pos_1 = conf.GetAtomPosition(atom_1)\n",
    "    pos_2 = conf.GetAtomPosition(atom_2)\n",
    "    distance = pos_1.Distance(pos_2)\n",
    "\n",
    "    coulombic_interaction_kj = (charge_1 * charge_2 / distance) * CONVERSION_FACTOR_KJ\n",
    "\n",
    "    # Check if the Coulombic interaction is less than or equal to the threshold\n",
    "    if abs(coulombic_interaction_kj) >= ES_THRESHOLD:\n",
    "        return (0, 0, 0, 0, 0)\n",
    "    else:\n",
    "        return None"
   ]
  },
  {
   "cell_type": "code",
   "execution_count": 3,
   "metadata": {},
   "outputs": [],
   "source": [
    "def calculate_gasteiger_charges(mol):\n",
    "    AllChem.ComputeGasteigerCharges(mol)\n",
    "    for atom in mol.GetAtoms():\n",
    "        atom.SetProp('_TriposAtomCharges', str(atom.GetDoubleProp('_GasteigerCharge')))\n",
    "    return mol\n"
   ]
  },
  {
   "cell_type": "code",
   "execution_count": 5,
   "metadata": {},
   "outputs": [
    {
     "name": "stdout",
     "output_type": "stream",
     "text": [
      "SMILES: C=CCCCCCCCCC, Atoms: (0, 10) -> Result: None\n",
      "SMILES: C=C, Atoms: (0, 1) -> Result: None\n",
      "SMILES: CC(=O)O, Atoms: (2, 3) -> Result: (0, 0, 0, 0, 0)\n"
     ]
    },
    {
     "name": "stderr",
     "output_type": "stream",
     "text": [
      "[18:17:04] Molecule does not have explicit Hs. Consider calling AddHs()\n",
      "[18:17:04] Molecule does not have explicit Hs. Consider calling AddHs()\n",
      "[18:17:04] Molecule does not have explicit Hs. Consider calling AddHs()\n"
     ]
    }
   ],
   "source": [
    "# Define test cases\n",
    "test_cases = [(\"CCCCCCCCCC=C\", 0, 10), # expected output: None\n",
    "              (\"C=C\", 0, 1), # expected output:  None\n",
    "              (\"CC(=O)O\", 2, 3) # expected output: (0, 0, 0, 0, 0)\n",
    "              ]\n",
    "\n",
    "# Initialize RDKit molecules and conformers\n",
    "molecules = []\n",
    "for smiles, a1, a2 in test_cases:\n",
    "    mol = Chem.MolFromSmiles(smiles)\n",
    "    AllChem.EmbedMolecule(mol)\n",
    "    mol = calculate_gasteiger_charges(mol)\n",
    "    molecules.append((mol, a1, a2))\n",
    "\n",
    "# Run test cases\n",
    "for mol, atom_1, atom_2 in molecules:\n",
    "    # Replace this with the actual function call\n",
    "    result = ionic_interaction(mol, atom_1, atom_2)\n",
    "    print(f\"SMILES: {Chem.MolToSmiles(mol)}, Atoms: ({atom_1}, {atom_2}) -> Result: {result}\")\n"
   ]
  },
  {
   "cell_type": "code",
   "execution_count": 7,
   "metadata": {},
   "outputs": [],
   "source": [
    "complex_mol = mol2_to_rdkit_mol(\"../../test_data/pdb/1a0q/1a0q_complex_charged.mol2\", sanitize = False) #/Users/tsachmackey/Documents/Summer 2024/Research /Batista project/AffinityNet/test_data/pdb/1a0q\n",
    "protein_mol = pdb_to_rdkit_mol(\"../../test_data/pdb/1a0q/1a0q_protein.pdb\") #/Users/tsachmackey/Documents/Summer 2024/Research /Batista project/AffinityNet/test_data/pdb/1a0q\n",
    "num_atoms_in_protein = len(protein_mol.GetAtoms())\n",
    "charges = extract_charges_from_mol2(\"../../test_data/pdb/1a0q/1a0q_complex_charged.mol2\")"
   ]
  },
  {
   "cell_type": "code",
   "execution_count": 8,
   "metadata": {},
   "outputs": [
    {
     "name": "stderr",
     "output_type": "stream",
     "text": [
      " 65%|██████▍   | 2115/3278 [00:51<00:28, 41.31it/s]\n",
      "  0%|          | 0/3071 [00:51<?, ?it/s]\n"
     ]
    },
    {
     "ename": "KeyboardInterrupt",
     "evalue": "",
     "output_type": "error",
     "traceback": [
      "\u001b[0;31m---------------------------------------------------------------------------\u001b[0m",
      "\u001b[0;31mKeyboardInterrupt\u001b[0m                         Traceback (most recent call last)",
      "Cell \u001b[0;32mIn[8], line 9\u001b[0m\n\u001b[1;32m      5\u001b[0m protein_or_ligand_ids \u001b[38;5;241m=\u001b[39m [\u001b[38;5;241m-\u001b[39m\u001b[38;5;241m1\u001b[39m \u001b[38;5;28;01mif\u001b[39;00m atom\u001b[38;5;241m.\u001b[39mGetIdx() \u001b[38;5;241m<\u001b[39m num_atoms_in_protein \u001b[38;5;28;01melse\u001b[39;00m \u001b[38;5;241m1\u001b[39m \u001b[38;5;28;01mfor\u001b[39;00m atom \u001b[38;5;129;01min\u001b[39;00m mol\u001b[38;5;241m.\u001b[39mGetAtoms()]\n\u001b[1;32m      7\u001b[0m add_charges_to_molecule(mol, charges)\n\u001b[0;32m----> 9\u001b[0m pocket_atom_indices \u001b[38;5;241m=\u001b[39m \u001b[43mfind_pocket_atoms_RDKit\u001b[49m\u001b[43m(\u001b[49m\u001b[43mmol\u001b[49m\u001b[43m,\u001b[49m\u001b[43m \u001b[49m\u001b[43mprotein_or_ligand_ids\u001b[49m\u001b[43m,\u001b[49m\u001b[43m \u001b[49m\u001b[43mnum_atoms_in_protein\u001b[49m\u001b[43m)\u001b[49m\n\u001b[1;32m     11\u001b[0m edge_features, edge_indices \u001b[38;5;241m=\u001b[39m get_edge_features(mol, pocket_atom_indices, pairwise_function\u001b[38;5;241m=\u001b[39mionic_interaction)\n",
      "File \u001b[0;32m~/Documents/Summer 2024/Research /Batista project/AffinityNet/notebooks/Dev/../../src/data/pocket_utils.py:47\u001b[0m, in \u001b[0;36mfind_pocket_atoms_RDKit\u001b[0;34m(mol, protein_or_ligand_ids, num_atoms_in_protein)\u001b[0m\n\u001b[1;32m     45\u001b[0m \u001b[38;5;28;01mfor\u001b[39;00m l_atom \u001b[38;5;129;01min\u001b[39;00m tqdm(\u001b[38;5;28mlist\u001b[39m(mol\u001b[38;5;241m.\u001b[39mGetAtoms())[num_atoms_in_protein:]): \u001b[38;5;66;03m#loop over all of the ligand atoms \u001b[39;00m\n\u001b[1;32m     46\u001b[0m     \u001b[38;5;28;01mfor\u001b[39;00m p_atom \u001b[38;5;129;01min\u001b[39;00m tqdm(\u001b[38;5;28mlist\u001b[39m(mol\u001b[38;5;241m.\u001b[39mGetAtoms())[:num_atoms_in_protein]): \u001b[38;5;66;03m#loop over all of the protein atoms \u001b[39;00m\n\u001b[0;32m---> 47\u001b[0m         distance \u001b[38;5;241m=\u001b[39m np\u001b[38;5;241m.\u001b[39mlinalg\u001b[38;5;241m.\u001b[39mnorm(get_atom_coordinates(mol)[l_atom\u001b[38;5;241m.\u001b[39mGetIdx()] \u001b[38;5;241m-\u001b[39m \u001b[43mget_atom_coordinates\u001b[49m\u001b[43m(\u001b[49m\u001b[43mmol\u001b[49m\u001b[43m)\u001b[49m[p_atom\u001b[38;5;241m.\u001b[39mGetIdx()])\n\u001b[1;32m     49\u001b[0m         \u001b[38;5;28;01mif\u001b[39;00m distance \u001b[38;5;241m<\u001b[39m \u001b[38;5;241m4.0\u001b[39m: \u001b[38;5;66;03m# 4 angstroms \u001b[39;00m\n\u001b[1;32m     50\u001b[0m             \u001b[38;5;66;03m#if the index is not already in the pocket atom indices, add it\u001b[39;00m\n\u001b[1;32m     51\u001b[0m             \u001b[38;5;28;01mif\u001b[39;00m p_atom\u001b[38;5;241m.\u001b[39mGetIdx() \u001b[38;5;129;01mnot\u001b[39;00m \u001b[38;5;129;01min\u001b[39;00m pocket_atom_indices:\n",
      "File \u001b[0;32m~/Documents/Summer 2024/Research /Batista project/AffinityNet/notebooks/Dev/../../src/data/pocket_utils.py:31\u001b[0m, in \u001b[0;36mget_atom_coordinates\u001b[0;34m(mol)\u001b[0m\n\u001b[1;32m     29\u001b[0m conformer \u001b[38;5;241m=\u001b[39m mol\u001b[38;5;241m.\u001b[39mGetConformer()\n\u001b[1;32m     30\u001b[0m coords \u001b[38;5;241m=\u001b[39m []\n\u001b[0;32m---> 31\u001b[0m \u001b[38;5;28;01mfor\u001b[39;00m atom \u001b[38;5;129;01min\u001b[39;00m mol\u001b[38;5;241m.\u001b[39mGetAtoms():\n\u001b[1;32m     32\u001b[0m     pos \u001b[38;5;241m=\u001b[39m conformer\u001b[38;5;241m.\u001b[39mGetAtomPosition(atom\u001b[38;5;241m.\u001b[39mGetIdx())\n\u001b[1;32m     33\u001b[0m     coords\u001b[38;5;241m.\u001b[39mappend((pos\u001b[38;5;241m.\u001b[39mx, pos\u001b[38;5;241m.\u001b[39my, pos\u001b[38;5;241m.\u001b[39mz))\n",
      "File \u001b[0;32m~/miniconda3/envs/affinity_env2/lib/python3.9/site-packages/rdkit/Chem/__init__.py:81\u001b[0m, in \u001b[0;36m_GetRDKitObjIterator.__iter__\u001b[0;34m(self)\u001b[0m\n\u001b[1;32m     79\u001b[0m \u001b[38;5;28;01mfor\u001b[39;00m i \u001b[38;5;129;01min\u001b[39;00m \u001b[38;5;28mrange\u001b[39m(\u001b[38;5;241m0\u001b[39m, \u001b[38;5;28mlen\u001b[39m(\u001b[38;5;28mself\u001b[39m)):\n\u001b[1;32m     80\u001b[0m   \u001b[38;5;28mself\u001b[39m\u001b[38;5;241m.\u001b[39m_pos \u001b[38;5;241m=\u001b[39m i\n\u001b[0;32m---> 81\u001b[0m   \u001b[38;5;28;01myield\u001b[39;00m \u001b[38;5;28;43mself\u001b[39;49m\u001b[43m[\u001b[49m\u001b[43mi\u001b[49m\u001b[43m]\u001b[49m\n\u001b[1;32m     82\u001b[0m \u001b[38;5;28mself\u001b[39m\u001b[38;5;241m.\u001b[39m_pos \u001b[38;5;241m=\u001b[39m \u001b[38;5;28mself\u001b[39m\u001b[38;5;241m.\u001b[39m_size\n",
      "\u001b[0;31mKeyboardInterrupt\u001b[0m: "
     ]
    }
   ],
   "source": [
    "mol = complex_mol\n",
    "\n",
    "AssignStereochemistry(mol, force=True, cleanIt=True)\n",
    "\n",
    "protein_or_ligand_ids = [-1 if atom.GetIdx() < num_atoms_in_protein else 1 for atom in mol.GetAtoms()]\n",
    "\n",
    "add_charges_to_molecule(mol, charges)\n",
    "\n",
    "pocket_atom_indices = find_pocket_atoms_RDKit(mol, protein_or_ligand_ids, num_atoms_in_protein)\n",
    "\n",
    "edge_features, edge_indices = get_edge_features(mol, pocket_atom_indices, pairwise_function=ionic_interaction)"
   ]
  },
  {
   "cell_type": "code",
   "execution_count": 39,
   "metadata": {},
   "outputs": [
    {
     "ename": "NameError",
     "evalue": "name 'pocket_atom_indices' is not defined",
     "output_type": "error",
     "traceback": [
      "\u001b[0;31m---------------------------------------------------------------------------\u001b[0m",
      "\u001b[0;31mNameError\u001b[0m                                 Traceback (most recent call last)",
      "Cell \u001b[0;32mIn[39], line 1\u001b[0m\n\u001b[0;32m----> 1\u001b[0m \u001b[38;5;28mlen\u001b[39m(\u001b[43mpocket_atom_indices\u001b[49m)\n",
      "\u001b[0;31mNameError\u001b[0m: name 'pocket_atom_indices' is not defined"
     ]
    }
   ],
   "source": [
    "len(pocket_atom_indices)"
   ]
  },
  {
   "cell_type": "code",
   "execution_count": null,
   "metadata": {},
   "outputs": [],
   "source": []
  }
 ],
 "metadata": {
  "kernelspec": {
   "display_name": "affinity_env2",
   "language": "python",
   "name": "python3"
  },
  "language_info": {
   "codemirror_mode": {
    "name": "ipython",
    "version": 3
   },
   "file_extension": ".py",
   "mimetype": "text/x-python",
   "name": "python",
   "nbconvert_exporter": "python",
   "pygments_lexer": "ipython3",
   "version": "3.9.16"
  }
 },
 "nbformat": 4,
 "nbformat_minor": 2
}
