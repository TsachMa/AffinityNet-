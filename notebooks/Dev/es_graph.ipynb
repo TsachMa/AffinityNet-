{
 "cells": [
  {
   "cell_type": "code",
   "execution_count": 10,
   "metadata": {},
   "outputs": [],
   "source": [
    "from rdkit.Chem.rdmolfiles import MolFromPDBFile\n",
    "from rdkit.Chem.rdchem import Mol\n",
    "from rdkit.Chem import AllChem\n",
    "\n",
    "import numpy as np\n",
    "import rdkit.Chem as Chem\n",
    "from rdkit.Chem import AddHs, AssignStereochemistry, HybridizationType, ChiralType, BondStereo, MolFromMol2File\n",
    "from rdkit.Chem.AllChem import ComputeGasteigerCharges\n",
    "import os\n",
    "import sys\n",
    "sys.path.append(\"../../\")\n",
    "from src.data.pocket_utils import get_atom_coordinates, find_pocket_atoms_RDKit\n",
    "from src.utils.constants import ES_THRESHOLD, METAL_OX_STATES\n",
    "from tqdm import tqdm "
   ]
  },
  {
   "cell_type": "code",
   "execution_count": 11,
   "metadata": {},
   "outputs": [],
   "source": [
    "from src.data.utils import pdb_to_rdkit_mol, mol2_to_rdkit_mol, get_vdw_radius, add_charges_to_molecule, get_node_features, get_edge_features, extract_charges_from_mol2, ionic_interaction"
   ]
  },
  {
   "cell_type": "code",
   "execution_count": 12,
   "metadata": {},
   "outputs": [],
   "source": [
    "def calculate_gasteiger_charges(mol):\n",
    "    AllChem.ComputeGasteigerCharges(mol)\n",
    "    for atom in mol.GetAtoms():\n",
    "        atom.SetProp('_TriposAtomCharges', str(atom.GetDoubleProp('_GasteigerCharge')))\n",
    "    return mol\n"
   ]
  },
  {
   "cell_type": "code",
   "execution_count": 13,
   "metadata": {},
   "outputs": [
    {
     "name": "stdout",
     "output_type": "stream",
     "text": [
      "SMILES: C=CCCCCCCCCC, Atoms: (0, 10) -> Result: None\n",
      "SMILES: C=C, Atoms: (0, 1) -> Result: None\n",
      "SMILES: CC(=O)O, Atoms: (2, 3) -> Result: (0, 0, 0, 0, 0, 74.1944410471423)\n"
     ]
    },
    {
     "name": "stderr",
     "output_type": "stream",
     "text": [
      "[22:55:36] Molecule does not have explicit Hs. Consider calling AddHs()\n",
      "[22:55:36] Molecule does not have explicit Hs. Consider calling AddHs()\n",
      "[22:55:36] Molecule does not have explicit Hs. Consider calling AddHs()\n"
     ]
    }
   ],
   "source": [
    "# Define test cases\n",
    "test_cases = [(\"CCCCCCCCCC=C\", 0, 10), # expected output: None\n",
    "              (\"C=C\", 0, 1), # expected output:  None\n",
    "              (\"CC(=O)O\", 2, 3) # expected output: (0, 0, 0, 0, 0)\n",
    "              ]\n",
    "\n",
    "# Initialize RDKit molecules and conformers\n",
    "molecules = []\n",
    "for smiles, a1, a2 in test_cases:\n",
    "    mol = Chem.MolFromSmiles(smiles)\n",
    "    AllChem.EmbedMolecule(mol)\n",
    "    mol = calculate_gasteiger_charges(mol)\n",
    "    molecules.append((mol, a1, a2))\n",
    "\n",
    "# Run test cases\n",
    "for mol, atom_1, atom_2 in molecules:\n",
    "    # Replace this with the actual function call\n",
    "    result = ionic_interaction(mol, atom_1, atom_2)\n",
    "    print(f\"SMILES: {Chem.MolToSmiles(mol)}, Atoms: ({atom_1}, {atom_2}) -> Result: {result}\")\n"
   ]
  },
  {
   "cell_type": "code",
   "execution_count": 14,
   "metadata": {},
   "outputs": [],
   "source": [
    "complex_mol = Chem.RemoveHs(mol2_to_rdkit_mol(\"../../test_data/pdb/1a0q/1a0q_complex_charged.mol2\", sanitize = False), sanitize = False) #/Users/tsachmackey/Documents/Summer 2024/Research /Batista project/AffinityNet/test_data/pdb/1a0q\n",
    "ligand_mol = Chem.RemoveHs(mol2_to_rdkit_mol(\"../../test_data/pdb/1a0q/1a0q_ligand.mol2\", sanitize = False), sanitize = False) #/Users/tsachmackey/Documents/Summer 2024/Research /Batista project/AffinityNet/test_data/pdb/1a0q\n",
    "num_atoms_in_protein = len(complex_mol.GetAtoms()) - len(ligand_mol.GetAtoms())\n",
    "charges = extract_charges_from_mol2(\"../../test_data/pdb/1a0q/1a0q_complex_charged.mol2\")\n",
    "\n",
    "mol = complex_mol\n",
    "AssignStereochemistry(mol, force=True, cleanIt=True)\n",
    "protein_or_ligand_ids = [-1 if atom.GetIdx() < num_atoms_in_protein else 1 for atom in mol.GetAtoms()]"
   ]
  },
  {
   "cell_type": "code",
   "execution_count": 15,
   "metadata": {},
   "outputs": [
    {
     "name": "stdout",
     "output_type": "stream",
     "text": [
      "Zn\n",
      "Zn\n",
      "Zn\n"
     ]
    },
    {
     "name": "stderr",
     "output_type": "stream",
     "text": [
      "100%|██████████| 3209/3209 [00:00<00:00, 184127.30it/s]\n",
      "653it [00:00, 668.93it/s]\n"
     ]
    }
   ],
   "source": [
    "add_charges_to_molecule(mol, charges)\n",
    "pocket_atom_indices = find_pocket_atoms_RDKit(mol, protein_or_ligand_ids, num_atoms_in_protein) # just use all of the atoms for now \n",
    "# pocket_atom_indices = [atom.GetIdx() for atom in mol.GetAtoms()]\n",
    "edge_features, edge_indices = get_edge_features(mol, pocket_atom_indices, pairwise_function=ionic_interaction)"
   ]
  },
  {
   "cell_type": "code",
   "execution_count": 16,
   "metadata": {},
   "outputs": [
    {
     "name": "stdout",
     "output_type": "stream",
     "text": [
      "Length of sorted_edge_indices: 254\n",
      "Sorted Edge Indices: [[2418 3184]\n",
      " [3184 2418]\n",
      " [3185  714]\n",
      " [ 714 3185]\n",
      " [3185 1876]\n",
      " [1876 3185]\n",
      " [2048 3184]\n",
      " [3184 2048]\n",
      " [3204 3185]\n",
      " [3185 3204]\n",
      " [3184 2034]\n",
      " [2034 3184]\n",
      " [ 723 3185]\n",
      " [3185  723]\n",
      " [3185 2095]\n",
      " [2095 3185]\n",
      " [3184 2030]\n",
      " [2030 3184]\n",
      " [1877 3185]\n",
      " [3185 1877]\n",
      " [ 703 3185]\n",
      " [3185  703]\n",
      " [2027 3185]\n",
      " [3185 2027]\n",
      " [2073 3184]\n",
      " [3184 2073]\n",
      " [2010 3185]\n",
      " [3185 2010]\n",
      " [ 715 3185]\n",
      " [3185  715]\n",
      " [3185 2093]\n",
      " [2093 3185]\n",
      " [3184 2419]\n",
      " [2419 3184]\n",
      " [3184 3203]\n",
      " [3203 3184]\n",
      " [3185 2048]\n",
      " [2048 3185]\n",
      " [2017 3185]\n",
      " [3185 2017]\n",
      " [2433 3184]\n",
      " [3184 2433]\n",
      " [3202 3184]\n",
      " [3184 3202]\n",
      " [3202 3185]\n",
      " [3185 3202]\n",
      " [2182 3185]\n",
      " [3185 2182]\n",
      " [ 711 3185]\n",
      " [3185  711]\n",
      " [2400 3184]\n",
      " [3184 2400]\n",
      " [1666 3184]\n",
      " [3184 1666]\n",
      " [3184 1880]\n",
      " [1880 3184]\n",
      " [3185 3203]\n",
      " [3203 3185]\n",
      " [1879 3184]\n",
      " [3184 1879]\n",
      " [2090 3185]\n",
      " [3185 2090]\n",
      " [ 736 3185]\n",
      " [3185  736]\n",
      " [3184  263]\n",
      " [ 263 3184]\n",
      " [1665 3184]\n",
      " [3184 1665]\n",
      " [2018 3185]\n",
      " [3185 2018]\n",
      " [2039 3185]\n",
      " [3185 2039]\n",
      " [3184 2044]\n",
      " [2044 3184]\n",
      " [1884 3185]\n",
      " [3185 1884]\n",
      " [3184 1876]\n",
      " [1876 3184]\n",
      " [ 718 3185]\n",
      " [3185  718]\n",
      " [3185 1861]\n",
      " [1861 3185]\n",
      " [2402 3184]\n",
      " [3184 2402]\n",
      " [2379 3184]\n",
      " [3184 2379]\n",
      " [2405 3184]\n",
      " [3184 2405]\n",
      " [3184 3201]\n",
      " [3201 3184]\n",
      " [2412 3184]\n",
      " [3184 2412]\n",
      " [ 738 3185]\n",
      " [3185  738]\n",
      " [3184 2410]\n",
      " [2410 3184]\n",
      " [3185 2041]\n",
      " [2041 3185]\n",
      " [2426 3184]\n",
      " [3184 2426]]\n"
     ]
    }
   ],
   "source": [
    "# Extract the last column from edge_features\n",
    "last_column = abs(edge_features[:, -1])\n",
    "\n",
    "# Sort edge_indices based on the last column\n",
    "sorted_indices = np.argsort(last_column)\n",
    "sorted_edge_indices = edge_indices[sorted_indices]\n",
    "sorted_edge_features = edge_features[sorted_indices]\n",
    "\n",
    "print(\"Length of sorted_edge_indices:\", len(sorted_edge_indices))\n",
    "print(\"Sorted Edge Indices:\", sorted_edge_indices[:100])"
   ]
  },
  {
   "cell_type": "code",
   "execution_count": 17,
   "metadata": {},
   "outputs": [
    {
     "name": "stdout",
     "output_type": "stream",
     "text": [
      "Sorted Edge Features: [[  0.           0.           0.           0.           0.\n",
      "  -50.25308099]\n",
      " [  0.           0.           0.           0.           0.\n",
      "  -50.25308099]\n",
      " [  0.           0.           0.           0.           0.\n",
      "   50.30233485]\n",
      " ...\n",
      " [  0.           0.           0.           0.           0.\n",
      "  292.41441035]\n",
      " [  0.           0.           0.           0.           0.\n",
      "  334.94795218]\n",
      " [  0.           0.           0.           0.           0.\n",
      "  334.94795218]]\n"
     ]
    }
   ],
   "source": [
    "print(\"Sorted Edge Features:\", sorted_edge_features)"
   ]
  },
  {
   "cell_type": "markdown",
   "metadata": {},
   "source": [
    "Taking a look at the top interaction ... "
   ]
  },
  {
   "cell_type": "code",
   "execution_count": 18,
   "metadata": {},
   "outputs": [
    {
     "name": "stdout",
     "output_type": "stream",
     "text": [
      "Atom index: 3185\n",
      "Atom symbol: Zn\n",
      "Atom atomic number: 30\n",
      "Atom partial charge: 2\n",
      "Atom index: 2074\n",
      "Atom symbol: O\n",
      "Atom atomic number: 8\n",
      "Atom partial charge: -0.27000000000000002\n"
     ]
    }
   ],
   "source": [
    "def print_atom_facts(index): \n",
    "    atom = mol.GetAtomWithIdx(index)\n",
    "    print(f\"Atom index: {atom.GetIdx()}\")\n",
    "    print(f\"Atom symbol: {atom.GetSymbol()}\")\n",
    "    print(f\"Atom atomic number: {atom.GetAtomicNum()}\")\n",
    "    print(f\"Atom partial charge: {atom.GetProp('_TriposAtomCharges')}\")\n",
    "\n",
    "print_atom_facts(3185)\n",
    "print_atom_facts(2074)"
   ]
  },
  {
   "cell_type": "markdown",
   "metadata": {},
   "source": [
    "Looking at a top non-metal interaction ..."
   ]
  },
  {
   "cell_type": "code",
   "execution_count": 19,
   "metadata": {},
   "outputs": [
    {
     "name": "stdout",
     "output_type": "stream",
     "text": [
      "Atom index: 2073\n",
      "Atom symbol: C\n",
      "Atom atomic number: 6\n",
      "Atom partial charge: 0.35499999999999998\n",
      "Atom index: 2030\n",
      "Atom symbol: O\n",
      "Atom atomic number: 8\n",
      "Atom partial charge: -0.30199999999999999\n"
     ]
    }
   ],
   "source": [
    "print_atom_facts(2073)\n",
    "print_atom_facts(2030)"
   ]
  }
 ],
 "metadata": {
  "kernelspec": {
   "display_name": "affinity_env2",
   "language": "python",
   "name": "python3"
  },
  "language_info": {
   "codemirror_mode": {
    "name": "ipython",
    "version": 3
   },
   "file_extension": ".py",
   "mimetype": "text/x-python",
   "name": "python",
   "nbconvert_exporter": "python",
   "pygments_lexer": "ipython3",
   "version": "3.9.16"
  }
 },
 "nbformat": 4,
 "nbformat_minor": 2
}
