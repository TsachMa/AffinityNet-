{
 "cells": [
  {
   "cell_type": "code",
   "execution_count": 1,
   "metadata": {},
   "outputs": [],
   "source": [
    "from rdkit.Chem.rdmolfiles import MolFromPDBFile\n",
    "from rdkit.Chem.rdchem import Mol\n",
    "from rdkit.Chem import AllChem\n",
    "\n",
    "import numpy as np\n",
    "import rdkit.Chem as Chem\n",
    "from rdkit.Chem import AddHs, AssignStereochemistry, HybridizationType, ChiralType, BondStereo, MolFromMol2File\n",
    "from rdkit.Chem.AllChem import ComputeGasteigerCharges\n",
    "import os\n",
    "import sys\n",
    "sys.path.append(\"../../\")\n",
    "from src.data.pocket_utils import get_atom_coordinates, find_pocket_atoms_RDKit\n",
    "from src.data.utils import pdb_to_rdkit_mol, mol2_to_rdkit_mol, get_vdw_radius, add_charges_to_molecule, get_node_features, get_edge_features, extract_charges_from_mol2\n",
    "from src.utils.constants import ES_THRESHOLD\n"
   ]
  },
  {
   "cell_type": "code",
   "execution_count": 2,
   "metadata": {},
   "outputs": [],
   "source": [
    "def ionic_interaction(mol: Chem.Mol, atom_1: int, atom_2: int):\n",
    "    \"\"\"\n",
    "    Determine if there is an electrostatic interaction between atom 1 and atom 2 based on whether the coulombic interaction\n",
    "    between the two atoms is less than or equal to some threshold imported from src/utils/constants.py.\n",
    "\n",
    "    Parameters:\n",
    "    mol (Chem.Mol): The RDKit molecule. NOTE: We assume that the molecule has _TriposAtomCharges charges assigned to the atoms.\n",
    "    atom_1 (int): The index of the first atom.\n",
    "    atom_2 (int): The index of the second atom.\n",
    "    \n",
    "    Returns:\n",
    "    tuple: (0, 0, 0, 0, 0) if there is an electrostatic interaction, None otherwise \n",
    "\n",
    "    Conversion Factor Calculation:\n",
    "    The Coulombic interaction energy between two point charges q1 and q2 separated by a distance r in vacuum is given by:\n",
    "\n",
    "        E = k * q1 * q2 / r\n",
    "\n",
    "    Where:\n",
    "    - E is the energy in Joules (J).\n",
    "    - k is Coulomb's constant, 8.987 x 10^9 N m^2 C^-2.\n",
    "    - q1 and q2 are the charges in Coulombs (C).\n",
    "    - r is the distance in meters (m).\n",
    "\n",
    "    To convert this energy into kJ/mol, the following conversions are applied:\n",
    "    - 1 e (elementary charge) = 1.602 x 10^-19 C\n",
    "    - Avogadro's number (N_A) = 6.022 x 10^23 mol^-1\n",
    "    - 1 Angstrom (Å) = 10^-10 meters (m)\n",
    "\n",
    "    Therefore, the conversion factor from (charge_1 * charge_2) / distance to kJ/mol is:\n",
    "\n",
    "        Conversion factor = (k * N_A * (1.602 x 10^-19)^2) * 10^10\n",
    "\n",
    "    Plugging in the values:\n",
    "\n",
    "        Conversion factor = (8.987 x 10^9 * 6.022 x 10^23 * (1.602 x 10^-19)^2) * 10^10\n",
    "                          ≈ 1388.93 kJ mol^-1 Å^-1\n",
    "    \"\"\"\n",
    "    # Constants\n",
    "    CONVERSION_FACTOR_KJ = 1388.93  # kJ mol^-1 Å^-1\n",
    "\n",
    "    # Get atomic charges using Gasteiger charges or another suitable method\n",
    "    charge_1 = float(mol.GetAtomWithIdx(atom_1).GetProp('_TriposAtomCharges'))\n",
    "    charge_2 = float(mol.GetAtomWithIdx(atom_2).GetProp('_TriposAtomCharges'))\n",
    "    \n",
    "    # Get the distance between the two atoms\n",
    "    conf = mol.GetConformer()\n",
    "    pos_1 = conf.GetAtomPosition(atom_1)\n",
    "    pos_2 = conf.GetAtomPosition(atom_2)\n",
    "    distance = pos_1.Distance(pos_2)\n",
    "\n",
    "    coulombic_interaction_kj = (charge_1 * charge_2 / distance) * CONVERSION_FACTOR_KJ\n",
    "\n",
    "    # Check if the Coulombic interaction is less than or equal to the threshold\n",
    "    if abs(coulombic_interaction_kj) >= ES_THRESHOLD:\n",
    "        return (0, 0, 0, 0, 0, coulombic_interaction_kj)\n",
    "    else:\n",
    "        return None"
   ]
  },
  {
   "cell_type": "code",
   "execution_count": 3,
   "metadata": {},
   "outputs": [],
   "source": [
    "def calculate_gasteiger_charges(mol):\n",
    "    AllChem.ComputeGasteigerCharges(mol)\n",
    "    for atom in mol.GetAtoms():\n",
    "        atom.SetProp('_TriposAtomCharges', str(atom.GetDoubleProp('_GasteigerCharge')))\n",
    "    return mol\n"
   ]
  },
  {
   "cell_type": "code",
   "execution_count": 4,
   "metadata": {},
   "outputs": [
    {
     "name": "stdout",
     "output_type": "stream",
     "text": [
      "SMILES: C=CCCCCCCCCC, Atoms: (0, 10) -> Result: None\n",
      "SMILES: C=C, Atoms: (0, 1) -> Result: None\n",
      "SMILES: CC(=O)O, Atoms: (2, 3) -> Result: (0, 0, 0, 0, 0, 74.26637744171447)\n"
     ]
    },
    {
     "name": "stderr",
     "output_type": "stream",
     "text": [
      "[22:18:43] Molecule does not have explicit Hs. Consider calling AddHs()\n",
      "[22:18:44] Molecule does not have explicit Hs. Consider calling AddHs()\n",
      "[22:18:44] Molecule does not have explicit Hs. Consider calling AddHs()\n"
     ]
    }
   ],
   "source": [
    "# Define test cases\n",
    "test_cases = [(\"CCCCCCCCCC=C\", 0, 10), # expected output: None\n",
    "              (\"C=C\", 0, 1), # expected output:  None\n",
    "              (\"CC(=O)O\", 2, 3) # expected output: (0, 0, 0, 0, 0)\n",
    "              ]\n",
    "\n",
    "# Initialize RDKit molecules and conformers\n",
    "molecules = []\n",
    "for smiles, a1, a2 in test_cases:\n",
    "    mol = Chem.MolFromSmiles(smiles)\n",
    "    AllChem.EmbedMolecule(mol)\n",
    "    mol = calculate_gasteiger_charges(mol)\n",
    "    molecules.append((mol, a1, a2))\n",
    "\n",
    "# Run test cases\n",
    "for mol, atom_1, atom_2 in molecules:\n",
    "    # Replace this with the actual function call\n",
    "    result = ionic_interaction(mol, atom_1, atom_2)\n",
    "    print(f\"SMILES: {Chem.MolToSmiles(mol)}, Atoms: ({atom_1}, {atom_2}) -> Result: {result}\")\n"
   ]
  },
  {
   "cell_type": "code",
   "execution_count": 5,
   "metadata": {},
   "outputs": [],
   "source": [
    "complex_mol = mol2_to_rdkit_mol(\"../../test_data/pdb/1a0q/1a0q_complex_charged.mol2\", sanitize = False) #/Users/tsachmackey/Documents/Summer 2024/Research /Batista project/AffinityNet/test_data/pdb/1a0q\n",
    "ligand_mol = mol2_to_rdkit_mol(\"../../test_data/pdb/1a0q/1a0q_ligand.mol2\", sanitize = False) #/Users/tsachmackey/Documents/Summer 2024/Research /Batista project/AffinityNet/test_data/pdb/1a0q\n",
    "num_atoms_in_protein = len(complex_mol.GetAtoms()) - len(ligand_mol.GetAtoms())\n",
    "charges = extract_charges_from_mol2(\"../../test_data/pdb/1a0q/1a0q_complex_charged.mol2\")\n",
    "\n",
    "mol = complex_mol\n",
    "AssignStereochemistry(mol, force=True, cleanIt=True)\n",
    "protein_or_ligand_ids = [-1 if atom.GetIdx() < num_atoms_in_protein else 1 for atom in mol.GetAtoms()]"
   ]
  },
  {
   "cell_type": "code",
   "execution_count": 6,
   "metadata": {},
   "outputs": [
    {
     "name": "stdout",
     "output_type": "stream",
     "text": [
      "Zn\n",
      "Zn\n",
      "Zn\n"
     ]
    },
    {
     "name": "stderr",
     "output_type": "stream",
     "text": [
      "100%|██████████| 6349/6349 [00:00<00:00, 212574.53it/s]\n",
      "1434it [00:04, 297.96it/s]\n"
     ]
    }
   ],
   "source": [
    "add_charges_to_molecule(mol, charges)\n",
    "pocket_atom_indices = find_pocket_atoms_RDKit(mol, protein_or_ligand_ids, num_atoms_in_protein) # just use all of the atoms for now \n",
    "# pocket_atom_indices = [atom.GetIdx() for atom in mol.GetAtoms()]\n",
    "edge_features, edge_indices = get_edge_features(mol, pocket_atom_indices, pairwise_function=ionic_interaction)"
   ]
  },
  {
   "cell_type": "code",
   "execution_count": 7,
   "metadata": {},
   "outputs": [
    {
     "name": "stdout",
     "output_type": "stream",
     "text": [
      "Atom symbol: C\n",
      "Atom atomic number: 6\n",
      "Atom partial charge: 0.35499999999999998\n"
     ]
    }
   ],
   "source": [
    "atom = mol.GetAtomWithIdx(4094)\n",
    "\n",
    "# Print details about the atom\n",
    "print(f\"Atom symbol: {atom.GetSymbol()}\")\n",
    "print(f\"Atom atomic number: {atom.GetAtomicNum()}\")\n",
    "print(f\"Atom partial charge: {atom.GetProp('_TriposAtomCharges')}\")"
   ]
  },
  {
   "cell_type": "code",
   "execution_count": 8,
   "metadata": {},
   "outputs": [],
   "source": [
    "def find_zinc_atom(mol: Chem.Mol):\n",
    "    \"\"\"\n",
    "    Loop through the RDKit molecule and look for a zinc atom.\n",
    "\n",
    "    Parameters:\n",
    "    mol (Chem.Mol): The RDKit molecule.\n",
    "\n",
    "    Returns:\n",
    "    int: The index of the zinc atom, or None if no zinc atom is found.\n",
    "    \"\"\"\n",
    "    for atom in mol.GetAtoms():\n",
    "        if atom.GetAtomicNum() == 30:  # Zinc has an atomic number of 30\n",
    "            return atom.GetIdx()\n",
    "    return None\n",
    "\n",
    "# Find the zinc atom\n",
    "zinc_index = find_zinc_atom(mol)"
   ]
  },
  {
   "cell_type": "code",
   "execution_count": 10,
   "metadata": {},
   "outputs": [
    {
     "name": "stdout",
     "output_type": "stream",
     "text": [
      "Atom symbol: Zn\n",
      "Atom atomic number: 30\n",
      "Atom partial charge: 2\n"
     ]
    }
   ],
   "source": [
    "atom = mol.GetAtomWithIdx(zinc_index)\n",
    "\n",
    "# Print details about the atom\n",
    "print(f\"Atom symbol: {atom.GetSymbol()}\")\n",
    "print(f\"Atom atomic number: {atom.GetAtomicNum()}\")\n",
    "print(f\"Atom partial charge: {atom.GetProp('_TriposAtomCharges')}\")"
   ]
  },
  {
   "cell_type": "code",
   "execution_count": 11,
   "metadata": {},
   "outputs": [
    {
     "name": "stdout",
     "output_type": "stream",
     "text": [
      "Atom symbol: C\n",
      "Atom atomic number: 6\n",
      "Atom partial charge: 0.35499999999999998\n"
     ]
    }
   ],
   "source": [
    "atom = mol.GetAtomWithIdx(4094)\n",
    "\n",
    "# Print details about the atom\n",
    "print(f\"Atom symbol: {atom.GetSymbol()}\")\n",
    "print(f\"Atom atomic number: {atom.GetAtomicNum()}\")\n",
    "print(f\"Atom partial charge: {atom.GetProp('_TriposAtomCharges')}\")"
   ]
  },
  {
   "cell_type": "code",
   "execution_count": 12,
   "metadata": {},
   "outputs": [
    {
     "name": "stdout",
     "output_type": "stream",
     "text": [
      "Atom symbol: O\n",
      "Atom atomic number: 8\n",
      "Atom partial charge: -0.27000000000000002\n"
     ]
    }
   ],
   "source": [
    "atom = mol.GetAtomWithIdx(4095)\n",
    "\n",
    "# Print details about the atom\n",
    "print(f\"Atom symbol: {atom.GetSymbol()}\")\n",
    "print(f\"Atom atomic number: {atom.GetAtomicNum()}\")\n",
    "print(f\"Atom partial charge: {atom.GetProp('_TriposAtomCharges')}\")"
   ]
  },
  {
   "cell_type": "code",
   "execution_count": 13,
   "metadata": {},
   "outputs": [
    {
     "name": "stdout",
     "output_type": "stream",
     "text": [
      "Sorted Edge Indices: [[4095 6305]\n",
      " [6305 4095]\n",
      " [6305 4096]\n",
      " [4096 6305]\n",
      " [3684 6304]\n",
      " [6304 3684]\n",
      " [6305 4134]\n",
      " [4134 6305]\n",
      " [6305 4011]\n",
      " [4011 6305]\n",
      " [6305 4091]\n",
      " [4091 6305]\n",
      " [4736 6304]\n",
      " [6304 4736]\n",
      " [3700 6304]\n",
      " [6304 3700]\n",
      " [3679 6304]\n",
      " [6304 3679]\n",
      " [6304 4739]\n",
      " [4739 6304]\n",
      " [3695 6304]\n",
      " [6304 3695]\n",
      " [4074 6305]\n",
      " [6305 4074]\n",
      " [3683 6304]\n",
      " [6304 3683]\n",
      " [6304 3630]\n",
      " [3630 6304]\n",
      " [4041 6305]\n",
      " [6305 4041]\n",
      " [4095 4094]\n",
      " [4094 4095]\n",
      " [4096 4094]\n",
      " [4094 4096]\n",
      " [6304 3623]\n",
      " [3623 6304]\n",
      " [4786 4788]\n",
      " [4788 4786]\n",
      " [3678 6304]\n",
      " [6304 3678]\n",
      " [3684 3682]\n",
      " [3682 3684]\n",
      " [6305 4090]\n",
      " [4090 6305]\n",
      " [4787 4786]\n",
      " [4786 4787]\n",
      " [4102 6305]\n",
      " [6305 4102]\n",
      " [3683 3682]\n",
      " [3682 3683]\n",
      " [6331 6324]\n",
      " [6324 6331]\n",
      " [6331 6326]\n",
      " [6326 6331]\n",
      " [6304 4748]\n",
      " [4748 6304]\n",
      " [6304 4733]\n",
      " [4733 6304]\n",
      " [6323 6328]\n",
      " [6328 6323]\n",
      " [6329 6323]\n",
      " [6323 6329]\n",
      " [4808 6304]\n",
      " [6304 4808]\n",
      " [6325 6331]\n",
      " [6331 6325]\n",
      " [3257 6304]\n",
      " [6304 3257]\n",
      " [4169 4168]\n",
      " [4168 4169]\n",
      " [1371 1370]\n",
      " [1370 1371]\n",
      " [3997 6305]\n",
      " [6305 3997]\n",
      " [6305 1446]\n",
      " [1446 6305]\n",
      " [1082 1081]\n",
      " [1081 1082]\n",
      " [  82   81]\n",
      " [  81   82]\n",
      " [6305 4085]\n",
      " [4085 6305]\n",
      " [4074 4073]\n",
      " [4073 4074]\n",
      " [4070 6305]\n",
      " [6305 4070]\n",
      " [3253 6304]\n",
      " [6304 3253]\n",
      " [6305 4097]\n",
      " [4097 6305]\n",
      " [3710 6305]\n",
      " [6305 3710]\n",
      " [4094 4091]\n",
      " [4091 4094]\n",
      " [6304 4774]\n",
      " [4774 6304]\n",
      " [6304 3673]\n",
      " [3673 6304]\n",
      " [4116 6305]\n",
      " [6305 4116]]\n"
     ]
    }
   ],
   "source": [
    "# Extract the last column from edge_features\n",
    "last_column = edge_features[:, -1]\n",
    "\n",
    "# Sort edge_indices based on the last column\n",
    "sorted_indices = np.argsort(last_column)\n",
    "sorted_edge_indices = edge_indices[sorted_indices]\n",
    "sorted_edge_features = edge_features[sorted_indices]\n",
    "\n",
    "print(\"Sorted Edge Indices:\", sorted_edge_indices[:100])"
   ]
  },
  {
   "cell_type": "code",
   "execution_count": 14,
   "metadata": {},
   "outputs": [
    {
     "name": "stdout",
     "output_type": "stream",
     "text": [
      "Sorted Edge Features: [[   0.            0.            0.            0.            0.\n",
      "  -262.46352172]\n",
      " [   0.            0.            0.            0.            0.\n",
      "  -262.46352172]\n",
      " [   0.            0.            0.            0.            0.\n",
      "  -253.48171353]\n",
      " ...\n",
      " [   0.            0.            0.            0.            0.\n",
      "   292.41441035]\n",
      " [   0.            0.            0.            0.            0.\n",
      "   334.94795218]\n",
      " [   0.            0.            0.            0.            0.\n",
      "   334.94795218]]\n"
     ]
    }
   ],
   "source": [
    "print(\"Sorted Edge Features:\", sorted_edge_features)"
   ]
  }
 ],
 "metadata": {
  "kernelspec": {
   "display_name": "affinity_env2",
   "language": "python",
   "name": "python3"
  },
  "language_info": {
   "codemirror_mode": {
    "name": "ipython",
    "version": 3
   },
   "file_extension": ".py",
   "mimetype": "text/x-python",
   "name": "python",
   "nbconvert_exporter": "python",
   "pygments_lexer": "ipython3",
   "version": "3.9.16"
  }
 },
 "nbformat": 4,
 "nbformat_minor": 2
}
